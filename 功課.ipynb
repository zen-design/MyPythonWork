{
 "cells": [
  {
   "cell_type": "markdown",
   "metadata": {},
   "source": [
    "### 早餐吃什麼?(學校旁的早餐店"
   ]
  },
  {
   "cell_type": "markdown",
   "metadata": {},
   "source": [
    "    步行:\n",
    "        古早味/傳香飯糰/美味派/小貓咪/德合香/麥當勞/摩斯漢堡/小木屋/口福/水煎包/麥早餐/Arty Burger"
   ]
  },
  {
   "cell_type": "markdown",
   "metadata": {},
   "source": [
    "    功能:\n",
    "        決定早餐店\n",
    "        隨機推薦早餐(一開始早餐為預設值\n",
    "        可增加早餐店(下次使用記得原先設定\n",
    "        也可自行增加或刪減該早餐店的內容物"
   ]
  },
  {
   "cell_type": "code",
   "execution_count": 136,
   "metadata": {},
   "outputs": [],
   "source": [
    "import tkinter as tk\n",
    "import random\n",
    "\n",
    "window = tk.Tk()\n",
    "window.title('早餐選擇器')\n",
    "window.geometry('600x400')\n",
    "\n",
    "shop_origin = ['古早味', '傳香飯團', '美味派', '小貓咪', '德合香', '麥當勞', '摩斯漢堡', '小木屋', '口福', '水煎包']\n",
    "breakfast_origin = [['蛋餅','飯糰','飲料','饅頭'],\n",
    "             ['飯糰'],\n",
    "             ['蛋餅','炒麵','飲料','煎餃','吐司','漢堡'],\n",
    "             ['蛋餅','吐司','飲料','饅頭','漢堡'],\n",
    "             ['蛋餅','吐司','飲料','饅頭','漢堡'],\n",
    "             ['飲料','鬆餅','漢堡'],\n",
    "             ['飲料','米漢堡','漢堡'],\n",
    "             ['蜂蜜鬆餅','飲料'],\n",
    "             ['蛋餅','飯糰','飲料','饅頭','燒餅'],\n",
    "             ['鮮肉煎包','高麗菜煎包','韭菜煎包']\n",
    "            ]\n",
    "\n",
    "def On_click():\n",
    "    global shop_origin\n",
    "    shop_ = shop_name.get()\n",
    "    shop_origin.append(shop_)\n",
    "    \n",
    "    breakfast_entry = tk.Entry(window, textvariable = new_breakfast, text=\"店名存取完成，請輸入早餐內容\")\n",
    "    breakfast_entry.pack()\n",
    "    \n",
    "    confirm_button_Y = tk.Button(window, text=\"繼續輸入\", command = Confirm_conti)\n",
    "    confirm_button_Y.pack()\n",
    "    \n",
    "    confirm_button_N = tk.Button(window, text=\"結束輸入\", command = Confirm_end)\n",
    "    confirm_button_N.pack()\n",
    "    \n",
    "def Confirm_conti():\n",
    "    global breakfast\n",
    "    breakfast_ = new_breakfast.get()\n",
    "    breakfast.append(breakfast_)\n",
    "    print(\"請繼續輸入\")\n",
    "    \n",
    "def Confirm_end():\n",
    "    global breakfast_origin\n",
    "    breakfast_ = new_breakfast.get()\n",
    "    breakfast.append(breakfast_)\n",
    "    breakfast_origin.append(breakfast)\n",
    "    print(\"存取完成，結束輸入\")\n",
    "     \n",
    "def Generator():\n",
    "    serial_num = random.randint(1, len(shop_origin)) - 1\n",
    "    shop_breakfast = breakfast_origin[serial_num]\n",
    "    random_breakfast = shop_breakfast[random.randint(0, len(shop_breakfast)-1)]\n",
    "    print(shop[serial_num], random_breakfast)\n",
    "    print(serial_num, shop_breakfast, random_breakfast)\n",
    "\n",
    "breakfast = []\n",
    "shop_name = tk.StringVar()\n",
    "shop_name.set(\"店名\")\n",
    "new_breakfast = tk.StringVar()\n",
    "new_breakfast.set(\"早餐內容\")\n",
    "\n",
    "Header_label = tk.Label(window, text=\"早餐吃啥米?\")\n",
    "Header_label.pack()\n",
    "\n",
    "Answer_button = tk.Button(window, text=\"推薦早餐\", command = Generator)\n",
    "Answer_button.pack()\n",
    "\n",
    "Adding_entry = tk.Entry(window, textvariable = shop_name)\n",
    "Adding_entry.pack()\n",
    "\n",
    "Adding_button = tk.Button(window, text=\"增加早餐店\", command = On_click)\n",
    "Adding_button.pack()\n",
    "\n",
    "window.mainloop()"
   ]
  },
  {
   "cell_type": "code",
   "execution_count": null,
   "metadata": {},
   "outputs": [],
   "source": []
  }
 ],
 "metadata": {
  "kernelspec": {
   "display_name": "Python 3",
   "language": "python",
   "name": "python3"
  },
  "language_info": {
   "codemirror_mode": {
    "name": "ipython",
    "version": 3
   },
   "file_extension": ".py",
   "mimetype": "text/x-python",
   "name": "python",
   "nbconvert_exporter": "python",
   "pygments_lexer": "ipython3",
   "version": "3.7.3"
  }
 },
 "nbformat": 4,
 "nbformat_minor": 2
}
