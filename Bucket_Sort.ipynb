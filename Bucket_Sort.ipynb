{
 "cells": [
  {
   "cell_type": "code",
   "execution_count": null,
   "metadata": {},
   "outputs": [],
   "source": [
    "%matplotlib inline"
   ]
  },
  {
   "cell_type": "code",
   "execution_count": 2,
   "metadata": {},
   "outputs": [],
   "source": [
    "import numpy as np"
   ]
  },
  {
   "cell_type": "code",
   "execution_count": 6,
   "metadata": {},
   "outputs": [],
   "source": [
    "import pandas as pd"
   ]
  },
  {
   "cell_type": "code",
   "execution_count": 7,
   "metadata": {},
   "outputs": [],
   "source": [
    "import math"
   ]
  },
  {
   "cell_type": "code",
   "execution_count": 8,
   "metadata": {},
   "outputs": [],
   "source": [
    "import matplotlib.pyplot as plt"
   ]
  },
  {
   "cell_type": "markdown",
   "metadata": {},
   "source": [
    "### Bucket Sort (easy)"
   ]
  },
  {
   "cell_type": "code",
   "execution_count": 64,
   "metadata": {},
   "outputs": [
    {
     "name": "stdout",
     "output_type": "stream",
     "text": [
      "Please enter the data with a space:68 87 78 60 5 83 65 38 14 83 26 82 10 59 11 64 76 36 48 54\n",
      "sorted ['5', '10', '11', '14', '26', '36', '38', '48', '54', '59', '60', '64', '65', '68', '76', '78', '82', '83', '83', '87']\n",
      "Test Time:0.001992702484131\n"
     ]
    }
   ],
   "source": [
    "import time\n",
    "num = input(\"Please enter the data with a space:\")\n",
    "start_time = time.time()\n",
    "num_list = num.split()\n",
    "bucket = [0,1,2,3,4,5,6,7,8,9]\n",
    "spam = []\n",
    "for i in bucket:\n",
    "    for j in num_list:\n",
    "        num_float = float(j)\n",
    "        if num_float // 10 == i:\n",
    "            spam.append(j)\n",
    "        else:\n",
    "            continue\n",
    "spam_len = len(spam)\n",
    "for k in range(spam_len):\n",
    "    for l in range(k+1, spam_len):\n",
    "        if float(spam[k]) > float(spam[l]):\n",
    "            spam[k], spam[l] = spam[l], spam[k]\n",
    "end_time = time.time()\n",
    "Test_time = end_time - start_time\n",
    "print(\"sorted\", spam)\n",
    "print(\"Test Time:{:.15f}\".format(Test_time))"
   ]
  }
 ],
 "metadata": {
  "kernelspec": {
   "display_name": "Python 3",
   "language": "python",
   "name": "python3"
  },
  "language_info": {
   "codemirror_mode": {
    "name": "ipython",
    "version": 3
   },
   "file_extension": ".py",
   "mimetype": "text/x-python",
   "name": "python",
   "nbconvert_exporter": "python",
   "pygments_lexer": "ipython3",
   "version": "3.7.3"
  }
 },
 "nbformat": 4,
 "nbformat_minor": 2
}
