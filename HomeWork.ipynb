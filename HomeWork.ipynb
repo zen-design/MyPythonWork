{
 "cells": [
  {
   "cell_type": "code",
   "execution_count": null,
   "metadata": {},
   "outputs": [],
   "source": [
    "%matplotlib inline"
   ]
  },
  {
   "cell_type": "code",
   "execution_count": null,
   "metadata": {},
   "outputs": [],
   "source": [
    "import numpy as np"
   ]
  },
  {
   "cell_type": "code",
   "execution_count": null,
   "metadata": {},
   "outputs": [],
   "source": [
    "import pandas as pd"
   ]
  },
  {
   "cell_type": "code",
   "execution_count": null,
   "metadata": {},
   "outputs": [],
   "source": [
    "import matplotlib.pyplot as plt"
   ]
  },
  {
   "cell_type": "code",
   "execution_count": null,
   "metadata": {},
   "outputs": [],
   "source": [
    "import math"
   ]
  },
  {
   "cell_type": "markdown",
   "metadata": {},
   "source": [
    "### 拍拍機器人"
   ]
  },
  {
   "cell_type": "code",
   "execution_count": null,
   "metadata": {},
   "outputs": [],
   "source": [
    "msg1 = input(\"\\n>\")\n",
    "if \"Hi\" in msg1:\n",
    "        print(\">Hi, how's it going?\")\n",
    "        msg2 = ''\n",
    "        while msg2 != 'bye':\n",
    "            msg2 = input(\">\")\n",
    "            if \"fine\" in msg2:\n",
    "                print(\">That's nice.\")\n",
    "            elif \"again\" in msg2:\n",
    "                print(\">I said that how's going.\")\n",
    "            elif \"bye\" in msg2:\n",
    "                print(\">Ok, bye.\")\n",
    "            elif \"......\" in msg2:\n",
    "                print(\">Are you in a hurry?\")\n",
    "            elif \"go\" in msg2:\n",
    "                print(\">Alrght.\")\n",
    "            else :\n",
    "                print(\">Hey! I'm talking to you.\")"
   ]
  },
  {
   "cell_type": "markdown",
   "metadata": {},
   "source": [
    "### 自動加密機"
   ]
  },
  {
   "cell_type": "code",
   "execution_count": null,
   "metadata": {},
   "outputs": [],
   "source": [
    "choice = input(\"請選擇要使用的功能:'加密'or'解碼':\")\n",
    "if choice == \"加密\":\n",
    "        word = input(\"請輸入數字或是英文字:\")\n",
    "        transform_ASCII = []\n",
    "        for i in word:\n",
    "            ASCII = int(ord(i))\n",
    "            ASCII = ASCII ** 2 + 197\n",
    "            transform_ASCII.append(ASCII)\n",
    "        print(\">>>加密完成:\", transform_ASCII)\n",
    "elif choice == \"解碼\":\n",
    "        word2 = input(\"請輸入要解碼之數字:\")\n",
    "        correct_ASCII = []\n",
    "        ASCII = (eval(word2) - 197) ** 0.5\n",
    "        ASCII = chr(int(ASCII))\n",
    "        correct_ASCII.append(ASCII)\n",
    "        print(\">>>解碼完成:\", correct_ASCII)\n",
    "else :\n",
    "        print(\"您的輸入有誤,請再重新操作\")"
   ]
  },
  {
   "cell_type": "code",
   "execution_count": null,
   "metadata": {
    "scrolled": true
   },
   "outputs": [],
   "source": [
    "choice = input(\"請選擇要使用的功能:'加密'or'解碼':\")\n",
    "if choice == \"加密\":\n",
    "        word = input(\"請輸入數字或是英文字:\")\n",
    "        transform_ASCII = []\n",
    "        for i in word:\n",
    "            ASCII = int(ord(i))\n",
    "            ASCII = ASCII ** 2 + 197\n",
    "            transform_ASCII.append(ASCII)\n",
    "        print(\">>>加密完成:\", transform_ASCII)\n",
    "elif choice == \"解碼\":\n",
    "        word2 = input(\"請輸入要解碼之數字:\")\n",
    "        Answer_ASCII = []\n",
    "        correct_ASCII = []\n",
    "        Answer_ASCII.append(word2)\n",
    "        for i in Answer_ASCII:\n",
    "            ASCII = (int(i) - 197) ** 0.5\n",
    "            ASCII = chr(int(ASCII))\n",
    "            correct_ASCII.append(ASCII)\n",
    "        print(\">>>解碼完成:\", correct_ASCII)\n",
    "else :\n",
    "        print(\"您的輸入有誤,請再重新操作\")"
   ]
  },
  {
   "cell_type": "code",
   "execution_count": null,
   "metadata": {},
   "outputs": [],
   "source": [
    "import sys\n",
    "choice = input(\">請選擇要使用的功能:'加密'or'解碼',若不再使用請打'結束'):\")\n",
    "while choice != \"結束\":    \n",
    "    if choice == \"加密\":\n",
    "        word = input(\">請輸入數字或是英文字:\")\n",
    "        transform_ASCII = []\n",
    "        for i in word:\n",
    "            ASCII = int(ord(i))\n",
    "            ASCII = ASCII ** 2 + 197\n",
    "            transform_ASCII.append(ASCII)\n",
    "        print(\">>>加密完成:\", transform_ASCII)\n",
    "        choice = input(\">請選擇要使用的功能:'加密'or'解碼',若不再使用請打'結束'):\")\n",
    "    elif choice == \"解碼\":\n",
    "        word2_str = input(\">請輸入要解碼之密碼(各密碼請以space分開):\")\n",
    "        word2_list = word2_str.split()\n",
    "        correct_ASCII = []\n",
    "        for i in word2_list:\n",
    "            ASCII = (int(i) - 197) ** 0.5\n",
    "            ASCII = chr(int(ASCII))\n",
    "            correct_ASCII.append(ASCII)\n",
    "        print(\">>>解碼完成:\", correct_ASCII)\n",
    "        choice = input(\">請選擇要使用的功能:'加密'or'解碼',若不再使用請打'結束'):\")\n",
    "\n",
    "    else :\n",
    "        print(\">您的輸入有誤,請再重新操作\")\n",
    "        choice = input(\">請選擇要使用的功能:'加密'or'解碼',若不再使用請打'結束'):\")"
   ]
  },
  {
   "cell_type": "markdown",
   "metadata": {},
   "source": [
    "### Subtraction Quiz Loop"
   ]
  },
  {
   "cell_type": "code",
   "execution_count": 1,
   "metadata": {},
   "outputs": [
    {
     "name": "stdout",
     "output_type": "stream",
     "text": [
      "請輸入測試次數:3\n",
      "請輸入答案936-489=425\n",
      "答錯\n",
      "請再次輸入答案936-489=447\n",
      "答對\n",
      "請輸入答案843-59=784\n",
      "答對\n",
      "請輸入答案764-0=764\n",
      "答對\n",
      "答題時間為 27.876258373260498 秒\n",
      "作答題數為 3 次,一共答對 2 次\n"
     ]
    }
   ],
   "source": [
    "import random\n",
    "import time\n",
    "\n",
    "correct_count = 0\n",
    "count = 0\n",
    "number_of_questions = eval(input(\"請輸入測試次數:\"))\n",
    "\n",
    "start_time = time.time()\n",
    "\n",
    "while count < number_of_questions:\n",
    "    num1 = random.randint(0,1000)\n",
    "    num2 = random.randint(0,1000)\n",
    "    if num1 < num2:\n",
    "        num1, num2 = num2, num1\n",
    "    answer = eval(input(\"請輸入答案\" + str(num1) + \"-\" + str(num2) + \"=\"))  #不能直接用int型態放到裡面,要用str才行\n",
    "    if num1 - num2 == answer:\n",
    "        print(\"答對\")\n",
    "        correct_count += 1\n",
    "    else:\n",
    "        print(\"答錯\")\n",
    "        while num1 - num2 != answer:\n",
    "            answer = eval(input(\"請再次輸入答案\" + str(num1) + \"-\" + str(num2) + \"=\"))\n",
    "            if num1 - num2 == answer:\n",
    "                print(\"答對\")\n",
    "            else:\n",
    "                print(\"答錯\")\n",
    "    count += 1\n",
    "end_time = time.time()\n",
    "print(\"答題時間為\", end_time - start_time, \"秒\")\n",
    "print(\"作答題數為\", count, \"次,一共答對\", correct_count, \"次\")"
   ]
  },
  {
   "cell_type": "markdown",
   "metadata": {},
   "source": [
    "### MultiplicationTable"
   ]
  },
  {
   "cell_type": "code",
   "execution_count": 2,
   "metadata": {},
   "outputs": [
    {
     "name": "stdout",
     "output_type": "stream",
     "text": [
      "           multiplication table\n",
      "      1   2   3   4   5   6   7   8   9\n",
      "----------------------------------------\n",
      "1 |   1   2   3   4   5   6   7   8   9\n",
      "2 |   2   4   6   8  10  12  14  16  18\n",
      "3 |   3   6   9  12  15  18  21  24  27\n",
      "4 |   4   8  12  16  20  24  28  32  36\n",
      "5 |   5  10  15  20  25  30  35  40  45\n",
      "6 |   6  12  18  24  30  36  42  48  54\n",
      "7 |   7  14  21  28  35  42  49  56  63\n",
      "8 |   8  16  24  32  40  48  56  64  72\n",
      "9 |   9  18  27  36  45  54  63  72  81\n"
     ]
    }
   ],
   "source": [
    "print(\"           multiplication table\")\n",
    "print(\"   \", end = '')\n",
    "for j in range(1,10):\n",
    "    print(\"  \", j, end = '') #沒有加end = ''的話,1,2,3...之間會直接換行\n",
    "print() #換行\n",
    "print(\"----------------------------------------\")\n",
    "for i in range(1, 10):\n",
    "    print(i, \"|\", end = '')\n",
    "    for j in range(1,10):\n",
    "        print(format(i * j, \"4d\"), end = '') #4格十進位\n",
    "    print()"
   ]
  },
  {
   "cell_type": "markdown",
   "metadata": {},
   "source": [
    "### Taiwan's Lottery Stimulation"
   ]
  },
  {
   "cell_type": "code",
   "execution_count": 2,
   "metadata": {},
   "outputs": [
    {
     "name": "stdout",
     "output_type": "stream",
     "text": [
      "請輸入彩卷號碼,01~49號並以空白鍵分開:10 14 41 38 5 6\n",
      "開出來的號碼是: [45, 25, 0, 35, 33, 24, 13]\n",
      "您所中的普通號數量: 0\n",
      "您所中的特別號數量: 0\n",
      "請再接再厲,繼續做公益\n"
     ]
    }
   ],
   "source": [
    "import random\n",
    "\n",
    "range_number = list(range(0,50))\n",
    "slice = random.sample(range_number, 7)\n",
    "answer_str = input(\"請輸入彩卷號碼,01~49號並以空白鍵分開:\")\n",
    "answer_list = answer_str.split()\n",
    "correct_normal_num = 0\n",
    "correct_special_num = 0\n",
    "normal_num = slice[0:6]\n",
    "special_num = slice[6:7]\n",
    "for i in normal_num:\n",
    "    for j in answer_list:\n",
    "        if i == int(j):\n",
    "            correct_normal_num += 1\n",
    "        else:\n",
    "            correct_normal_num == correct_normal_num\n",
    "for x in special_num:\n",
    "    for y in answer_list:\n",
    "        if x == int(y):\n",
    "            correct_special_num += 1\n",
    "        else:\n",
    "            correct_special_num = correct_special_num\n",
    "print(\"開出來的號碼是:\", slice)\n",
    "print(\"您所中的普通號數量:\", correct_normal_num)\n",
    "print(\"您所中的特別號數量:\", correct_special_num)\n",
    "if correct_normal_num > 5:\n",
    "    print(\"恭喜獲得頭獎,獎金為100000000TWD\")\n",
    "elif correct_normal_num == 5 and correct_special_num == 1:\n",
    "    print(\"恭喜獲得貳獎,獎金為20000000TWD\")\n",
    "elif correct_normal_num == 5 and correct_special_num == 0:\n",
    "    print(\"恭喜獲得參獎,獎金為300000TWD\")\n",
    "elif correct_normal_num == 4 and correct_special_num == 1:\n",
    "    print(\"恭喜獲得肆獎,獎金為20000TWD\")\n",
    "elif correct_normal_num == 4 and correct_special_num == 0:\n",
    "    print(\"恭喜獲得伍獎,獎金為2000TWD\")\n",
    "elif correct_normal_num == 3 and correct_special_num == 1:\n",
    "    print(\"恭喜獲得陸獎,獎金為1000TWD\")\n",
    "elif correct_normal_num == 2 and correct_special_num == 1:\n",
    "    print(\"恭喜獲得柒獎,獎金為400TWD\")\n",
    "elif correct_normal_num == 3 and correct_special_num == 0:\n",
    "    print(\"恭喜獲得普獎,獎金為400TWD\")\n",
    "else:\n",
    "    print(\"請再接再厲,繼續做公益\")"
   ]
  },
  {
   "cell_type": "markdown",
   "metadata": {},
   "source": [
    "### 發票中獎器"
   ]
  },
  {
   "cell_type": "code",
   "execution_count": null,
   "metadata": {},
   "outputs": [],
   "source": []
  },
  {
   "cell_type": "code",
   "execution_count": null,
   "metadata": {},
   "outputs": [],
   "source": []
  },
  {
   "cell_type": "code",
   "execution_count": null,
   "metadata": {},
   "outputs": [],
   "source": []
  },
  {
   "cell_type": "code",
   "execution_count": null,
   "metadata": {},
   "outputs": [],
   "source": []
  },
  {
   "cell_type": "code",
   "execution_count": null,
   "metadata": {},
   "outputs": [],
   "source": []
  },
  {
   "cell_type": "code",
   "execution_count": null,
   "metadata": {},
   "outputs": [],
   "source": []
  },
  {
   "cell_type": "code",
   "execution_count": null,
   "metadata": {},
   "outputs": [],
   "source": []
  },
  {
   "cell_type": "code",
   "execution_count": null,
   "metadata": {},
   "outputs": [],
   "source": []
  },
  {
   "cell_type": "code",
   "execution_count": null,
   "metadata": {},
   "outputs": [],
   "source": []
  },
  {
   "cell_type": "code",
   "execution_count": null,
   "metadata": {},
   "outputs": [],
   "source": []
  },
  {
   "cell_type": "code",
   "execution_count": null,
   "metadata": {},
   "outputs": [],
   "source": []
  },
  {
   "cell_type": "code",
   "execution_count": null,
   "metadata": {},
   "outputs": [],
   "source": []
  },
  {
   "cell_type": "code",
   "execution_count": null,
   "metadata": {},
   "outputs": [],
   "source": []
  },
  {
   "cell_type": "code",
   "execution_count": null,
   "metadata": {},
   "outputs": [],
   "source": []
  },
  {
   "cell_type": "code",
   "execution_count": null,
   "metadata": {},
   "outputs": [],
   "source": []
  },
  {
   "cell_type": "code",
   "execution_count": null,
   "metadata": {},
   "outputs": [],
   "source": []
  },
  {
   "cell_type": "code",
   "execution_count": null,
   "metadata": {},
   "outputs": [],
   "source": []
  },
  {
   "cell_type": "code",
   "execution_count": null,
   "metadata": {},
   "outputs": [],
   "source": []
  },
  {
   "cell_type": "code",
   "execution_count": null,
   "metadata": {},
   "outputs": [],
   "source": []
  },
  {
   "cell_type": "code",
   "execution_count": null,
   "metadata": {},
   "outputs": [],
   "source": []
  },
  {
   "cell_type": "code",
   "execution_count": null,
   "metadata": {},
   "outputs": [],
   "source": []
  },
  {
   "cell_type": "code",
   "execution_count": null,
   "metadata": {},
   "outputs": [],
   "source": []
  }
 ],
 "metadata": {
  "kernelspec": {
   "display_name": "Python 3",
   "language": "python",
   "name": "python3"
  },
  "language_info": {
   "codemirror_mode": {
    "name": "ipython",
    "version": 3
   },
   "file_extension": ".py",
   "mimetype": "text/x-python",
   "name": "python",
   "nbconvert_exporter": "python",
   "pygments_lexer": "ipython3",
   "version": "3.7.3"
  }
 },
 "nbformat": 4,
 "nbformat_minor": 2
}
