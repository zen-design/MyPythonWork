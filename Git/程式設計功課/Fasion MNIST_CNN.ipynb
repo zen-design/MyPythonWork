{
 "cells": [
  {
   "cell_type": "markdown",
   "metadata": {},
   "source": [
    "### 建立神經網路"
   ]
  },
  {
   "cell_type": "code",
   "execution_count": 1,
   "metadata": {},
   "outputs": [],
   "source": [
    "%matplotlib inline\n",
    "\n",
    "import numpy as np\n",
    "import matplotlib.pyplot as plt\n",
    "import tensorflow as tf\n",
    "from tensorflow.keras.utils import to_categorical\n",
    "from tensorflow.keras.models import Sequential\n",
    "from tensorflow.keras.layers import Conv2D, MaxPooling2D, Dense, Flatten\n",
    "from tensorflow.keras.optimizers import SGD\n",
    "from tensorflow.keras.datasets import fashion_mnist\n",
    "\n",
    "#load the fashion_mnist dataset from tf.keras datasets\n",
    "(x_train, y_train), (x_test, y_test) = fashion_mnist.load_data()\n",
    "\n",
    "#Process data\n",
    "x_train = x_train.reshape(-1, 28, 28, 1) # Expend dimension for 1 channel image\n",
    "x_test = x_test.reshape(-1, 28, 28, 1)\n",
    "x_train = x_train / 255 # Normalize\n",
    "x_test = x_test / 255 # Normalize\n",
    "\n",
    "#One hot encoding\n",
    "y_train = to_categorical(y_train, num_classes=10)\n",
    "y_test = to_categorical(y_test, num_classes=10)\n",
    "\n",
    "#Build ConvNet model with tf.keras\n",
    "def ConvNet(width, height, depth, classes):\n",
    "    \n",
    "    #initialize the model\n",
    "    model = Sequential()\n",
    "    \n",
    "    # first layer, convolution and pooling\n",
    "    model.add(Conv2D(input_shape=(width, height, depth), filters=6, kernel_size=(5, 5), strides=(1, 1), padding='valid', activation='relu'))\n",
    "    model.add(MaxPooling2D(pool_size=(2, 2), strides=(2, 2)))\n",
    "    \n",
    "    # second layer, convolution and pooling\n",
    "    model.add(Conv2D(input_shape=(width, height, depth), filters=16, kernel_size=(5, 5), strides=(1, 1), padding='valid', activation='relu'))\n",
    "    model.add(MaxPooling2D(pool_size=(2, 2), strides=(2, 2)))\n",
    "    \n",
    "    # Fully connection layer\n",
    "    model.add(Flatten())\n",
    "    model.add(Dense(128, activation='relu'))\n",
    "    model.add(Dense(64, activation='relu'))\n",
    "    \n",
    "    # softmax classifier\n",
    "    model.add(Dense(classes, activation='softmax'))\n",
    "    \n",
    "    return model\n",
    "              "
   ]
  },
  {
   "cell_type": "code",
   "execution_count": 2,
   "metadata": {},
   "outputs": [],
   "source": [
    "ConvNet_model = ConvNet(28, 28, 1, 10)"
   ]
  },
  {
   "cell_type": "code",
   "execution_count": 3,
   "metadata": {},
   "outputs": [
    {
     "name": "stdout",
     "output_type": "stream",
     "text": [
      "Model: \"sequential\"\n",
      "_________________________________________________________________\n",
      "Layer (type)                 Output Shape              Param #   \n",
      "=================================================================\n",
      "conv2d (Conv2D)              (None, 24, 24, 6)         156       \n",
      "_________________________________________________________________\n",
      "max_pooling2d (MaxPooling2D) (None, 12, 12, 6)         0         \n",
      "_________________________________________________________________\n",
      "conv2d_1 (Conv2D)            (None, 8, 8, 16)          2416      \n",
      "_________________________________________________________________\n",
      "max_pooling2d_1 (MaxPooling2 (None, 4, 4, 16)          0         \n",
      "_________________________________________________________________\n",
      "flatten (Flatten)            (None, 256)               0         \n",
      "_________________________________________________________________\n",
      "dense (Dense)                (None, 128)               32896     \n",
      "_________________________________________________________________\n",
      "dense_1 (Dense)              (None, 64)                8256      \n",
      "_________________________________________________________________\n",
      "dense_2 (Dense)              (None, 10)                650       \n",
      "=================================================================\n",
      "Total params: 44,374\n",
      "Trainable params: 44,374\n",
      "Non-trainable params: 0\n",
      "_________________________________________________________________\n"
     ]
    }
   ],
   "source": [
    "ConvNet_model.summary()"
   ]
  },
  {
   "cell_type": "code",
   "execution_count": 4,
   "metadata": {},
   "outputs": [],
   "source": [
    "ConvNet_model.compile(loss='categorical_crossentropy', optimizer=SGD(lr=0.001), metrics=['accuracy'])"
   ]
  },
  {
   "cell_type": "markdown",
   "metadata": {},
   "source": [
    "### 調整部分\n",
    "    1. 在ConvNet中，只有卷積和池化只有重複一次，就進入全連結神經網路\n",
    "    2. 在第一層和第二層的filter分別為(6, 16)， 而卷積核大小是5*5，沒有做padding\n",
    "    3. DNN中的神經元數目分別是(128, 64)"
   ]
  },
  {
   "cell_type": "code",
   "execution_count": 5,
   "metadata": {
    "scrolled": true
   },
   "outputs": [
    {
     "name": "stdout",
     "output_type": "stream",
     "text": [
      "Train on 60000 samples, validate on 10000 samples\n",
      "Epoch 1/10\n",
      "60000/60000 [==============================] - 15s 242us/sample - loss: 1.8714 - accuracy: 0.4007 - val_loss: 1.1252 - val_accuracy: 0.5895\n",
      "Epoch 2/10\n",
      "60000/60000 [==============================] - 14s 238us/sample - loss: 0.9274 - accuracy: 0.6610 - val_loss: 0.8641 - val_accuracy: 0.6746\n",
      "Epoch 3/10\n",
      "60000/60000 [==============================] - 15s 246us/sample - loss: 0.7976 - accuracy: 0.7039 - val_loss: 0.7667 - val_accuracy: 0.7166\n",
      "Epoch 4/10\n",
      "60000/60000 [==============================] - 14s 238us/sample - loss: 0.7307 - accuracy: 0.7284 - val_loss: 0.7271 - val_accuracy: 0.7312\n",
      "Epoch 5/10\n",
      "60000/60000 [==============================] - 14s 239us/sample - loss: 0.6824 - accuracy: 0.7437 - val_loss: 0.6821 - val_accuracy: 0.7522\n",
      "Epoch 6/10\n",
      "60000/60000 [==============================] - 16s 269us/sample - loss: 0.6422 - accuracy: 0.7619 - val_loss: 0.6383 - val_accuracy: 0.7546\n",
      "Epoch 7/10\n",
      "60000/60000 [==============================] - 16s 273us/sample - loss: 0.6129 - accuracy: 0.7726 - val_loss: 0.6134 - val_accuracy: 0.7771\n",
      "Epoch 8/10\n",
      "60000/60000 [==============================] - 17s 276us/sample - loss: 0.5870 - accuracy: 0.7804 - val_loss: 0.5890 - val_accuracy: 0.7852\n",
      "Epoch 9/10\n",
      "60000/60000 [==============================] - 16s 271us/sample - loss: 0.5668 - accuracy: 0.7908 - val_loss: 0.5820 - val_accuracy: 0.7883\n",
      "Epoch 10/10\n",
      "60000/60000 [==============================] - 16s 275us/sample - loss: 0.5478 - accuracy: 0.8006 - val_loss: 0.5651 - val_accuracy: 0.7928\n",
      "10000/10000 [==============================] - 1s 101us/sample - loss: 0.5651 - accuracy: 0.7928\n"
     ]
    }
   ],
   "source": [
    "#Start training\n",
    "History = ConvNet_model.fit(x_train, y_train, batch_size=30, epochs=10, validation_data=(x_test, y_test))\n",
    "loss, accuracy = ConvNet_model.evaluate(x_test, y_test)"
   ]
  },
  {
   "cell_type": "code",
   "execution_count": 6,
   "metadata": {
    "scrolled": true
   },
   "outputs": [
    {
     "data": {
      "image/png": "[encoded data removed]",
      "text/plain": [
       "<Figure size 1080x360 with 2 Axes>"
      ]
     },
     "metadata": {
      "needs_background": "light"
     },
     "output_type": "display_data"
    }
   ],
   "source": [
    "plt.figure(figsize= (15, 5))\n",
    "plt.subplot(1, 2, 1)\n",
    "plt.plot(History.history['accuracy'])\n",
    "plt.plot(History.history['val_accuracy'])\n",
    "plt.title('model accuracy')\n",
    "plt.ylabel('accuracy')\n",
    "plt.xlabel('epoch')\n",
    "plt.legend(['train', 'test'], loc='upper left')\n",
    "\n",
    "plt.subplot(1,2,2)\n",
    "plt.plot(History.history['loss'])\n",
    "plt.plot(History.history['val_loss'])\n",
    "plt.title('model loss')\n",
    "plt.ylabel('loss')\n",
    "plt.xlabel('epoch')\n",
    "plt.legend(['train', 'test'], loc='upper left')\n",
    "plt.show()\n",
    "plt.show()"
   ]
  },
  {
   "cell_type": "markdown",
   "metadata": {},
   "source": [
    "#### 尚未測試的問題\n",
    "    1. 不同lr對答案的影響\n",
    "    2. 不同batch_size對答案的影響"
   ]
  },
  {
   "cell_type": "code",
   "execution_count": null,
   "metadata": {},
   "outputs": [],
   "source": []
  }
 ],
 "metadata": {
  "kernelspec": {
   "display_name": "Python 3",
   "language": "python",
   "name": "python3"
  },
  "language_info": {
   "codemirror_mode": {
    "name": "ipython",
    "version": 3
   },
   "file_extension": ".py",
   "mimetype": "text/x-python",
   "name": "python",
   "nbconvert_exporter": "python",
   "pygments_lexer": "ipython3",
   "version": "3.7.6"
  }
 },
 "nbformat": 4,
 "nbformat_minor": 4
}
