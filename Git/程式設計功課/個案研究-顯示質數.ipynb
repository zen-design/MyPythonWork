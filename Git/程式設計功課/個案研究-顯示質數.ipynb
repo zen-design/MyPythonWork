{
 "cells": [
  {
   "cell_type": "code",
   "execution_count": 2,
   "metadata": {},
   "outputs": [
    {
     "name": "stdout",
     "output_type": "stream",
     "text": [
      "The first 50 prime numbers are\n",
      "    2    3    5    7   11   13   17   19   23   29\n",
      "   31   37   41   43   47   53   59   61   67   71\n",
      "   73   79   83   89   97  101  103  107  109  113\n",
      "  127  131  137  139  149  151  157  163  167  173\n",
      "  179  181  191  193  197  199  211  223  227  229\n"
     ]
    }
   ],
   "source": [
    "NUMBER_OF_PRIMES = 50\n",
    "NUMBER_OF_PRIMES_PER_LINE = 10\n",
    "count = 0\n",
    "number = 2\n",
    "\n",
    "print(\"The first 50 prime numbers are\")\n",
    "\n",
    "while count < NUMBER_OF_PRIMES:\n",
    "    isPrime = True\n",
    "    \n",
    "    divisor = 2\n",
    "    while divisor <= number / 2:\n",
    "        if number % divisor == 0:\n",
    "            isPrime = False\n",
    "            break\n",
    "        divisor += 1\n",
    "        \n",
    "    if isPrime :\n",
    "        count += 1\n",
    "        \n",
    "        print(format(number, \"5d\"), end = '')\n",
    "        if count % NUMBER_OF_PRIMES_PER_LINE == 0:\n",
    "            print()\n",
    "            \n",
    "    number += 1"
   ]
  },
  {
   "cell_type": "code",
   "execution_count": null,
   "metadata": {},
   "outputs": [],
   "source": []
  }
 ],
 "metadata": {
  "kernelspec": {
   "display_name": "Python 3",
   "language": "python",
   "name": "python3"
  },
  "language_info": {
   "codemirror_mode": {
    "name": "ipython",
    "version": 3
   },
   "file_extension": ".py",
   "mimetype": "text/x-python",
   "name": "python",
   "nbconvert_exporter": "python",
   "pygments_lexer": "ipython3",
   "version": "3.7.3"
  }
 },
 "nbformat": 4,
 "nbformat_minor": 2
}
