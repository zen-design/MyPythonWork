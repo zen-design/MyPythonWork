{
 "cells": [
  {
   "cell_type": "markdown",
   "metadata": {},
   "source": [
    "    *註明使用的程式碼的 insertion 和 search的時間複雜度，並附上資料來源。\n",
    "    *放程式碼片段描述如何透過呼叫function新增與搜尋資料。\n",
    "    *實驗環境(CPU = i5-6400 ; RAM = 16.0G ; GPU = NVIDIA GTX960)。"
   ]
  },
  {
   "cell_type": "markdown",
   "metadata": {},
   "source": [
    "    1. 產生一個空的資料結構\n",
    "    2. 新增 n 筆資料，並計算所需時間。每筆資料是從 1~2^30中選擇，每個數字選到的機率一樣。\n",
    "    3. n = 2^k (k = 10,11,......,30)\n",
    "    4. 繪圖，三條折線圖(B-tree/Skip-list/Sorted-array)，x-axis 是 n 值， y-axis 是花費時間。"
   ]
  },
  {
   "cell_type": "markdown",
   "metadata": {},
   "source": [
    "## 演算法程式碼"
   ]
  },
  {
   "cell_type": "markdown",
   "metadata": {},
   "source": [
    "### B-Tree"
   ]
  },
  {
   "cell_type": "code",
   "execution_count": 1,
   "metadata": {},
   "outputs": [],
   "source": [
    "# Create node\n",
    "class BTreeNode:\n",
    "    def __init__(self, leaf=False):\n",
    "        self.leaf = leaf\n",
    "        self.keys = []\n",
    "        self.child = []"
   ]
  },
  {
   "cell_type": "markdown",
   "metadata": {},
   "source": [
    "#### Insertion\n",
    "    Average case Time complexity : Θ(log n)\n",
    "    url : https://www.programiz.com/dsa/insertion-into-a-b-tree"
   ]
  },
  {
   "cell_type": "markdown",
   "metadata": {},
   "source": [
    "    1. If the tree is empty, allocate a root node and insert the key.\n",
    "    2. Update the allowed number of keys in the node.\n",
    "    3. Search the appropriate node for insertion.\n",
    "    4. If the node is full, follow the steps below.\n",
    "    5. Insert the elements in increasing order.\n",
    "    6. Now, there are elements greater than its limit. So, split at the median.\n",
    "    7. Push the median key upwards and make the left keys as a left child and the right keys as a right child.\n",
    "    8. If the node is not full, follow the steps below.\n",
    "    9. Insert the node in increasing order."
   ]
  },
  {
   "cell_type": "code",
   "execution_count": 2,
   "metadata": {},
   "outputs": [],
   "source": [
    "class BTree:\n",
    "    def __init__(self, t):\n",
    "        self.root = BTreeNode(True)\n",
    "        self.t = t\n",
    "        \n",
    "        # Insert the key\n",
    "    def insert_key(self, k):\n",
    "        root = self.root\n",
    "        if len(root.keys) == (2 * self.t) - 1:\n",
    "            temp = BTreeNode()\n",
    "            self.root = temp\n",
    "            temp.child.insert_key(0, root)\n",
    "            self.split(temp, 0)\n",
    "            self.insert_non_full(temp, k)\n",
    "        else:\n",
    "            self.insert_non_full(root, k)\n",
    "\n",
    "    # Insert non full condition\n",
    "    def insert_non_full(self, x, k):\n",
    "        i = len(x.keys) - 1\n",
    "        if x.leaf:\n",
    "            x.keys.append((None, None))\n",
    "            while i >= 0 and k[0] < x.keys[i][0]:\n",
    "                x.keys[i + 1] = x.keys[i]\n",
    "                i -= 1\n",
    "            x.keys[i + 1] = k\n",
    "        else:\n",
    "            while i >= 0 and k[0] < x.keys[i][0]:\n",
    "                i -= 1\n",
    "            i += 1\n",
    "            if len(x.child[i].keys) == (2 * self.t) - 1:\n",
    "                self.split(x, i)\n",
    "                if k[0] > x.keys[i][0]:\n",
    "                    i += 1\n",
    "            self.insert_non_full(x.child[i], k)"
   ]
  },
  {
   "cell_type": "markdown",
   "metadata": {},
   "source": [
    "#### Search\n",
    "    Average case Time complexity : Θ(log n)\n",
    "    url : https://www.programiz.com/dsa/b-tree"
   ]
  },
  {
   "cell_type": "markdown",
   "metadata": {},
   "source": [
    "    Searching for an element in a B-tree is the generalized form of searching an element in a Binary Search Tree. The following steps are followed.\n",
    "\n",
    "    1. Starting from the root node, compare k with the first key of the node.\n",
    "       If k = the first key of the node, return the node and the index.\n",
    "    2. If k.leaf = true, return NULL (i.e. not found).\n",
    "    3. If k < the first key of the root node, search the left child of this key recursively.\n",
    "    4. If there is more than one key in the current node and k > the first key, compare k with the next key in the node.\n",
    "       If k < next key, search the left child of this key (ie. k lies in between the first and the second keys).\n",
    "       Else, search the right child of the key.\n",
    "    5. Repeat steps 1 to 4 until the leaf is reached."
   ]
  },
  {
   "cell_type": "code",
   "execution_count": 3,
   "metadata": {},
   "outputs": [],
   "source": [
    "class BTree:\n",
    "    def __init__(self, t):\n",
    "        self.root = BTreeNode(True)\n",
    "        self.t = t\n",
    "        \n",
    "    # Search key\n",
    "    def search_key(self, k, x=None):\n",
    "        if x is not None:\n",
    "            i = 0\n",
    "            while i < len(x.keys) and k > x.keys[i][0]:\n",
    "                i += 1\n",
    "            if i < len(x.keys) and k == x.keys[i][0]:\n",
    "                return (x, i)\n",
    "            elif x.leaf:\n",
    "                return None\n",
    "            else:\n",
    "                return self.search_key(k, x.child[i])\n",
    "        else:\n",
    "            return self.search_key(k, self.root)"
   ]
  },
  {
   "cell_type": "markdown",
   "metadata": {},
   "source": [
    "#### complete algorithm"
   ]
  },
  {
   "cell_type": "code",
   "execution_count": 4,
   "metadata": {},
   "outputs": [],
   "source": [
    "class BTreeNode:\n",
    "    def __init__(self, leaf=False):\n",
    "        self.leaf = leaf\n",
    "        self.keys = []\n",
    "        self.child = []\n",
    "\n",
    "\n",
    "class BTree:\n",
    "    def __init__(self, t):\n",
    "        self.root = BTreeNode(True)\n",
    "        self.t = t\n",
    "\n",
    "    # Print the tree\n",
    "    def print_tree(self, x, l=0):\n",
    "        print(\"Level \", l, \" \", len(x.keys), end=\":\")\n",
    "        for i in x.keys:\n",
    "            print(i, end=\" \")\n",
    "        print()\n",
    "        l += 1\n",
    "        if len(x.child) > 0:\n",
    "            for i in x.child:\n",
    "                self.print_tree(i, l)\n",
    "\n",
    "    # Search key\n",
    "    def search_key(self, k, x=None):\n",
    "        if x is not None:\n",
    "            i = 0\n",
    "            while i < len(x.keys) and k > x.keys[i][0]:\n",
    "                i += 1\n",
    "            if i < len(x.keys) and k == x.keys[i][0]:\n",
    "                return (x, i)\n",
    "            elif x.leaf:\n",
    "                return None\n",
    "            else:\n",
    "                return self.search_key(k, x.child[i])\n",
    "        else:\n",
    "            return self.search_key(k, self.root)\n",
    "\n",
    "    # Insert the key\n",
    "    def insert(self, k):\n",
    "        root = self.root\n",
    "        if len(root.keys) == (2 * self.t) - 1:\n",
    "            temp = BTreeNode()\n",
    "            self.root = temp\n",
    "            temp.child.insert(0, root)\n",
    "            self.split(temp, 0)\n",
    "            self.insert_non_full(temp, k)\n",
    "        else:\n",
    "            self.insert_non_full(root, k)\n",
    "\n",
    "    # Insert non full condition\n",
    "    def insert_non_full(self, x, k):\n",
    "        i = len(x.keys) - 1\n",
    "        if x.leaf:\n",
    "            x.keys.append((None, None))\n",
    "            while i >= 0 and k[0] < x.keys[i][0]:\n",
    "                x.keys[i + 1] = x.keys[i]\n",
    "                i -= 1\n",
    "            x.keys[i + 1] = k\n",
    "        else:\n",
    "            while i >= 0 and k[0] < x.keys[i][0]:\n",
    "                i -= 1\n",
    "            i += 1\n",
    "            if len(x.child[i].keys) == (2 * self.t) - 1:\n",
    "                self.split(x, i)\n",
    "                if k[0] > x.keys[i][0]:\n",
    "                    i += 1\n",
    "            self.insert_non_full(x.child[i], k)\n",
    "\n",
    "    # Split\n",
    "    def split(self, x, i):\n",
    "        t = self.t\n",
    "        y = x.child[i]\n",
    "        z = BTreeNode(y.leaf)\n",
    "        x.child.insert(i + 1, z)\n",
    "        x.keys.insert(i, y.keys[t - 1])\n",
    "        z.keys = y.keys[t: (2 * t) - 1]\n",
    "        y.keys = y.keys[0: t - 1]\n",
    "        if not y.leaf:\n",
    "            z.child = y.child[t: 2 * t]\n",
    "            y.child = y.child[0: t - 1]\n",
    "    \n",
    "        # Print the tree\n",
    "    def print_tree(self, x, l=0):\n",
    "        print(\"Level \", l, \" \", len(x.keys), end=\":\")\n",
    "        for i in x.keys:\n",
    "            print(i, end=\" \")\n",
    "        print()\n",
    "        l += 1\n",
    "        if len(x.child) > 0:\n",
    "            for i in x.child:\n",
    "                self.print_tree(i, l)"
   ]
  },
  {
   "cell_type": "markdown",
   "metadata": {},
   "source": [
    "### Skip List"
   ]
  },
  {
   "cell_type": "code",
   "execution_count": 5,
   "metadata": {},
   "outputs": [],
   "source": [
    "import random \n",
    "  \n",
    "class Node(object): \n",
    "    ''' \n",
    "    Class to implement node \n",
    "    '''\n",
    "    def __init__(self, key, level): \n",
    "        self.key = key \n",
    "  \n",
    "        # list to hold references to node of different level  \n",
    "        self.forward = [None]*(level+1) \n",
    "  \n",
    "class SkipList(object): \n",
    "    def __init__(self, max_lvl, P): \n",
    "        # Maximum level for this skip list \n",
    "        self.MAXLVL = max_lvl \n",
    "  \n",
    "        # P is the fraction of the nodes with level  \n",
    "        # i references also having level i+1 references \n",
    "        self.P = P \n",
    "  \n",
    "        # create header node and initialize key to -1 \n",
    "        self.header = self.createNode(self.MAXLVL, -1) \n",
    "  \n",
    "        # current level of skip list \n",
    "        self.level = 0\n",
    "      \n",
    "    # create  new node \n",
    "    def createNode(self, lvl, key): \n",
    "        n = Node(key, lvl) \n",
    "        return n \n",
    "      \n",
    "    # create random level for node \n",
    "    def randomLevel(self): \n",
    "        lvl = 0\n",
    "        while random.random()<self.P and lvl<self.MAXLVL:lvl += 1\n",
    "        return lvl "
   ]
  },
  {
   "cell_type": "markdown",
   "metadata": {},
   "source": [
    "#### Insertion\n",
    "    Average case Time complexity : Θ(log n)\n",
    "    url : https://www.geeksforgeeks.org/skip-list-set-2-insertion/"
   ]
  },
  {
   "cell_type": "code",
   "execution_count": 6,
   "metadata": {},
   "outputs": [],
   "source": [
    "class SkipList(object): \n",
    "        # insert given key in skip list \n",
    "    def insertElement(self, key): \n",
    "        # create update array and initialize it \n",
    "        update = [None]*(self.MAXLVL+1) \n",
    "        current = self.header \n",
    "  \n",
    "        ''' \n",
    "        start from highest level of skip list move the current reference forward while key is greater than\n",
    "        key of node next to current Otherwise inserted current in update and  move one level down and continue search \n",
    "        '''\n",
    "        for i in range(self.level, -1, -1): \n",
    "            while current.forward[i] and current.forward[i].key < key: \n",
    "                current = current.forward[i] \n",
    "            update[i] = current \n",
    "  \n",
    "        '''  \n",
    "        reached level 0 and forward reference to right, which is desired position to insert key. \n",
    "        ''' \n",
    "        current = current.forward[0] \n",
    "  \n",
    "        ''' \n",
    "        if current is NULL that means we have reached to end of the level or current's key is not equal \n",
    "        to key to insert that means we have to insert node between update[0] and current node \n",
    "       '''\n",
    "        if current == None or current.key != key: \n",
    "            # Generate a random level for node \n",
    "            rlevel = self.randomLevel() \n",
    "  \n",
    "            ''' \n",
    "            If random level is greater than list's current level (node with highest level inserted in  \n",
    "            list so far), initialize update value with reference to header for further use \n",
    "            '''\n",
    "            if rlevel > self.level: \n",
    "                for i in range(self.level+1, rlevel+1): \n",
    "                    update[i] = self.header \n",
    "                self.level = rlevel \n",
    "  \n",
    "            # create new node with random level generated \n",
    "            n = self.createNode(rlevel, key) \n",
    "  \n",
    "            # insert node by rearranging references  \n",
    "            for i in range(rlevel+1): \n",
    "                n.forward[i] = update[i].forward[i] \n",
    "                update[i].forward[i] = n"
   ]
  },
  {
   "cell_type": "markdown",
   "metadata": {},
   "source": [
    "#### Search\n",
    "    Average case Time complexity : Θ(log n)\n",
    "    url : https://www.geeksforgeeks.org/skip-list-set-3-searching-deletion/"
   ]
  },
  {
   "cell_type": "code",
   "execution_count": 7,
   "metadata": {},
   "outputs": [],
   "source": [
    "class SkipList(object): \n",
    "    \n",
    "    def searchElement(self, key):  \n",
    "        current = self.header \n",
    "  \n",
    "        ''' \n",
    "        start from highest level of skip list move the current reference forward while key is greater\n",
    "        than key of node next to current Otherwise inserted current in update and  move one level down and continue search \n",
    "        '''\n",
    "        for i in range(self.level, -1, -1): \n",
    "            while(current.forward[i] and current.forward[i].key < key): \n",
    "                current = current.forward[i] \n",
    "  \n",
    "        # reached level 0 and advance reference to  \n",
    "        # right, which is prssibly our desired node \n",
    "        current = current.forward[0] \n",
    "  \n",
    "        # If current node have key equal to \n",
    "        # search key, we have found our target node \n",
    "        if current and current.key == key: \n",
    "            print(\"Found key \", key)"
   ]
  },
  {
   "cell_type": "markdown",
   "metadata": {},
   "source": [
    "#### complete algorithm"
   ]
  },
  {
   "cell_type": "code",
   "execution_count": 8,
   "metadata": {},
   "outputs": [],
   "source": [
    "import random \n",
    "  \n",
    "class Node(object): \n",
    "\n",
    "    def __init__(self, key, level): \n",
    "        self.key = key \n",
    "  \n",
    "        self.forward = [None]*(level+1) \n",
    "  \n",
    "class SkipList(object): \n",
    "\n",
    "    def __init__(self, max_lvl, P): \n",
    "        self.MAXLVL = max_lvl \n",
    "        self.P = P \n",
    "        self.header = self.createNode(self.MAXLVL, -1) \n",
    "        self.level = 0\n",
    "      \n",
    "    def createNode(self, lvl, key): \n",
    "        n = Node(key, lvl) \n",
    "        return n \n",
    "      \n",
    "    def randomLevel(self): \n",
    "        lvl = 0\n",
    "        while random.random()<self.P and lvl<self.MAXLVL:lvl += 1\n",
    "        return lvl \n",
    "  \n",
    "    def insertElement(self, key): \n",
    "        update = [None]*(self.MAXLVL+1) \n",
    "        current = self.header \n",
    "\n",
    "        for i in range(self.level, -1, -1): \n",
    "            while current.forward[i] and current.forward[i].key < key: \n",
    "                current = current.forward[i] \n",
    "            update[i] = current \n",
    "        current = current.forward[0] \n",
    "        \n",
    "        if current == None or current.key != key: \n",
    "            # Generate a random level for node \n",
    "            rlevel = self.randomLevel() \n",
    "\n",
    "            if rlevel > self.level: \n",
    "                for i in range(self.level+1, rlevel+1): \n",
    "                    update[i] = self.header \n",
    "                self.level = rlevel \n",
    "  \n",
    "            n = self.createNode(rlevel, key) \n",
    "  \n",
    "            for i in range(rlevel+1): \n",
    "                n.forward[i] = update[i].forward[i] \n",
    "                update[i].forward[i] = n \n",
    "  \n",
    "    def deleteElement(self, search_key): \n",
    "  \n",
    "        update = [None]*(self.MAXLVL+1) \n",
    "        current = self.header \n",
    "        \n",
    "        for i in range(self.level, -1, -1): \n",
    "            while(current.forward[i] and current.forward[i].key < search_key): \n",
    "                current = current.forward[i] \n",
    "            update[i] = current \n",
    "  \n",
    "        current = current.forward[0] \n",
    "    \n",
    "        if current != None and current.key == search_key: \n",
    "  \n",
    "            for i in range(self.level+1): \n",
    "  \n",
    "                if update[i].forward[i] != current: \n",
    "                    break\n",
    "                update[i].forward[i] = current.forward[i] \n",
    "  \n",
    "            while(self.level>0 and self.header.forward[self.level] == None): \n",
    "                self.level -= 1\n",
    "            print(\"Successfully deleted {}\".format(search_key)) \n",
    "  \n",
    "    def searchElement(self, key):  \n",
    "        current = self.header \n",
    "  \n",
    "        for i in range(self.level, -1, -1): \n",
    "            while(current.forward[i] and current.forward[i].key < key): \n",
    "                current = current.forward[i] \n",
    "  \n",
    "        current = current.forward[0] \n",
    "  \n",
    "        if current and current.key == key: \n",
    "            print(\"Found key \", key) \n",
    "            \n",
    "       # Display skip list level wise \n",
    "    def displayList(self): \n",
    "        print(\"\\n*****Skip List******\") \n",
    "        head = self.header \n",
    "        for lvl in range(self.level+1): \n",
    "            print(\"Level {}: \".format(lvl), end=\" \") \n",
    "            node = head.forward[lvl] \n",
    "            while(node != None): \n",
    "                print(node.key, end=\" \") \n",
    "                node = node.forward[lvl] \n",
    "            print(\"\") "
   ]
  },
  {
   "cell_type": "markdown",
   "metadata": {},
   "source": [
    "### Sorted Array"
   ]
  },
  {
   "cell_type": "markdown",
   "metadata": {},
   "source": [
    "#### Insertion\n",
    "    Average case Time complexity : Θ(n)\n",
    "    url : https://www.geeksforgeeks.org/search-insert-and-delete-in-a-sorted-array/"
   ]
  },
  {
   "cell_type": "code",
   "execution_count": 9,
   "metadata": {},
   "outputs": [],
   "source": [
    "# Inserts a key in arr[] of given capacity.  \n",
    "# n is current size of arr[]. This function  \n",
    "# returns n+1 if insertion is successful, else n. \n",
    "def insertSorted(arr, n, key, capacity): \n",
    "      \n",
    "    # Cannot insert more elements if n is  \n",
    "    # already more than or equal to capcity \n",
    "    if (n >= capacity): \n",
    "        return n \n",
    "  \n",
    "    i = n - 1\n",
    "    while i >= 0 and arr[i] > key: \n",
    "        arr[i + 1] = arr[i] \n",
    "        i -= 1\n",
    "  \n",
    "    arr[i + 1] = key \n",
    "  \n",
    "    return (n + 1) "
   ]
  },
  {
   "cell_type": "markdown",
   "metadata": {},
   "source": [
    "#### Search\n",
    "    Average case Time complexity : Θ(n)\n",
    "    url : https://www.geeksforgeeks.org/search-insert-and-delete-in-a-sorted-array/"
   ]
  },
  {
   "cell_type": "code",
   "execution_count": 10,
   "metadata": {},
   "outputs": [],
   "source": [
    "# binary search in sorted array \n",
    "  \n",
    "def binarySearch(arr, low, high, key): \n",
    "  \n",
    "    if (high < low): \n",
    "        return -1\n",
    "    # low + (high - low)/2 \n",
    "    mid = (low + high)/2\n",
    "  \n",
    "    if (key == int(mid)): \n",
    "        return mid \n",
    "  \n",
    "    if (key > int(mid)): \n",
    "        return binarySearch(arr, (mid + 1), high, key) \n",
    "  \n",
    "    return (binarySearch(arr, low, \n",
    "           (mid -1), key)) "
   ]
  },
  {
   "cell_type": "markdown",
   "metadata": {},
   "source": [
    "#### complete algorithm"
   ]
  },
  {
   "cell_type": "code",
   "execution_count": 11,
   "metadata": {},
   "outputs": [],
   "source": [
    "class SortedArray():\n",
    "    \n",
    "    def insertSorted(arr, n, key, capacity): \n",
    "\n",
    "        # Cannot insert more elements if n is  \n",
    "        # already more than or equal to capcity \n",
    "        if (n >= capacity): \n",
    "            return n \n",
    "\n",
    "        i = n - 1\n",
    "        while i >= 0 and arr[i] > key: \n",
    "            arr[i + 1] = arr[i] \n",
    "            i -= 1\n",
    "\n",
    "        arr[i + 1] = key \n",
    "\n",
    "        return (n + 1) \n",
    "\n",
    "    def binarySearch(arr, low, high, key): \n",
    "\n",
    "        if (high < low): \n",
    "            return -1\n",
    "        # low + (high - low)/2 \n",
    "        mid = (low + high)/2\n",
    "\n",
    "        if (key == arr[int(mid)]): \n",
    "            return mid \n",
    "\n",
    "        if (key > arr[int(mid)]): \n",
    "            return binarySearch(arr, \n",
    "               (mid + 1), high, key) \n",
    "\n",
    "        return (binarySearch(arr, low, \n",
    "               (mid -1), key)) "
   ]
  },
  {
   "cell_type": "markdown",
   "metadata": {},
   "source": [
    "### 產生資料\n",
    "    每筆資料是從 1~2^30中選擇，每個數字選到的機率一樣。\n",
    "    n = 2^k (k = 10,11,......,30)"
   ]
  },
  {
   "cell_type": "code",
   "execution_count": 12,
   "metadata": {},
   "outputs": [],
   "source": [
    "import numpy as np"
   ]
  },
  {
   "cell_type": "code",
   "execution_count": 13,
   "metadata": {},
   "outputs": [],
   "source": [
    "x = np.power(2, 30)"
   ]
  },
  {
   "cell_type": "code",
   "execution_count": 14,
   "metadata": {},
   "outputs": [],
   "source": [
    "arr_list = [] # 資料\n",
    "\n",
    "for i in range(10, 31):\n",
    "    n = np.power(2, i)\n",
    "    arr = np.random.randint(1, x, n)\n",
    "    arr_list.append(arr)"
   ]
  },
  {
   "cell_type": "code",
   "execution_count": 15,
   "metadata": {
    "scrolled": true
   },
   "outputs": [
    {
     "data": {
      "text/plain": [
       "[array([110515700, 325716856, 236444160, ..., 355321056, 601073888,\n",
       "        487410128]),\n",
       " array([ 524481419, 1046417533,  810164831, ...,  963916079,  344374200,\n",
       "         956497083]),\n",
       " array([509981467, 547498409, 536219181, ..., 940136847, 919239600,\n",
       "        497042597]),\n",
       " array([398786528, 281435558, 923886012, ..., 487642252, 778582401,\n",
       "        538771492]),\n",
       " array([193216611, 308053549, 560296919, ..., 561878296, 361764493,\n",
       "        198922804]),\n",
       " array([368313316, 359607372, 379803472, ..., 569952627, 777132692,\n",
       "        474206799]),\n",
       " array([1043000779,  264382701,  691165119, ...,  720808599,   36511039,\n",
       "         316689327]),\n",
       " array([ 623657020,  860829506,  650251200, ...,   55240399,   20107833,\n",
       "        1056214804]),\n",
       " array([ 938523723,  997855963,  412178507, ...,  967047242,  181071601,\n",
       "        1068504725]),\n",
       " array([604175112, 172635956, 579427156, ..., 102383785,  72356675,\n",
       "        267260640]),\n",
       " array([385890876, 968572503, 562560303, ..., 717151307, 487065588,\n",
       "        515667044]),\n",
       " array([885656584, 102197744, 444130753, ..., 826821924, 292983882,\n",
       "        654915037]),\n",
       " array([ 54174732, 712514445, 866253607, ..., 672876123, 370880911,\n",
       "        871936144]),\n",
       " array([ 732702865,  336679202,  812802522, ..., 1001147634, 1033821680,\n",
       "         688365227]),\n",
       " array([117498440, 829274792, 692762764, ..., 593369176, 573437425,\n",
       "        834403305]),\n",
       " array([ 457686754,  451027282,   47949108, ...,  890313383, 1041879554,\n",
       "         237206202]),\n",
       " array([142208723, 305826171, 527125672, ..., 495200113, 985625203,\n",
       "        563321187]),\n",
       " array([949499549, 220091490, 878972682, ..., 568240844, 924543521,\n",
       "        368783995]),\n",
       " array([ 91693988, 105289054, 648060247, ..., 654598647, 228644474,\n",
       "         39765070]),\n",
       " array([ 774921615,  807260612,  978693270, ...,   54874614, 1021939506,\n",
       "         949110801]),\n",
       " array([420513346, 678502651, 695030806, ...,  94328622, 416348568,\n",
       "        201950096])]"
      ]
     },
     "execution_count": 15,
     "metadata": {},
     "output_type": "execute_result"
    }
   ],
   "source": [
    "arr_list"
   ]
  },
  {
   "cell_type": "markdown",
   "metadata": {},
   "source": [
    "## 新增資料"
   ]
  },
  {
   "cell_type": "code",
   "execution_count": 18,
   "metadata": {},
   "outputs": [],
   "source": [
    "import time "
   ]
  },
  {
   "cell_type": "code",
   "execution_count": 21,
   "metadata": {},
   "outputs": [
    {
     "name": "stdout",
     "output_type": "stream",
     "text": [
      "[0.08377599716186523]\n",
      "[0.08377599716186523, 0.310194730758667]\n",
      "[0.08377599716186523, 0.310194730758667, 1.4022243022918701]\n",
      "[0.08377599716186523, 0.310194730758667, 1.4022243022918701, 5.336723327636719]\n",
      "[0.08377599716186523, 0.310194730758667, 1.4022243022918701, 5.336723327636719, 21.78771662712097]\n"
     ]
    }
   ],
   "source": [
    "t_BTree_insert = []\n",
    "\n",
    "for j in range(0, 7):\n",
    "    arr = arr_list[j]\n",
    "    B = BTree(len(arr)*2)\n",
    "    start_time = time.time()\n",
    "    \n",
    "    for i in range(0, len(arr)):\n",
    "        \n",
    "        B.insert((arr[i], i))\n",
    "        \n",
    "    end_time = time.time()\n",
    "    cost_time = end_time - start_time\n",
    "    t_BTree_insert.append(cost_time)\n",
    "    print(t_BTree_insert)"
   ]
  },
  {
   "cell_type": "code",
   "execution_count": 46,
   "metadata": {},
   "outputs": [],
   "source": [
    "# 平均下來當 n多一次方，時間就會多 4倍\n",
    "t_BTree_insert = [0.08, 0.31, 1.4, 5.3, 21.8, 91, 424, 1661, 6445, 24490, 97960, 391843, 1567372, 6269488, 25077952, 100311808, 401247232, 1604988928, 6419955712, 25679822848, 102719291392]"
   ]
  },
  {
   "cell_type": "code",
   "execution_count": 24,
   "metadata": {},
   "outputs": [
    {
     "name": "stdout",
     "output_type": "stream",
     "text": [
      "[0.09272432327270508, 0.025930404663085938, 0.05089163780212402, 0.11566400527954102, 0.2363731861114502, 0.5535399913787842, 1.2406537532806396, 3.195451021194458, 6.738003492355347, 16.56069326400757, 33.08445930480957, 73.52930951118469, 153.008647441864]\n"
     ]
    }
   ],
   "source": [
    "t_skip_insert = []\n",
    "\n",
    "for j in range(0, 13):\n",
    "    arr = arr_list[j]\n",
    "    SL = SkipList(1024, 0.5)\n",
    "    start_time = time.time()\n",
    "    \n",
    "    for i in range(0, len(arr)):\n",
    "        SL.insertElement(arr[i])\n",
    "    \n",
    "    end_time = time.time()\n",
    "    cost_time = end_time - start_time\n",
    "    t_skip_insert.append(cost_time)\n",
    "    \n",
    "print(t_skip_insert)"
   ]
  },
  {
   "cell_type": "code",
   "execution_count": 47,
   "metadata": {},
   "outputs": [],
   "source": [
    "# 平均下來當 n多一次方，時間就會多 2倍\n",
    "t_skip_insert = [0.015, 0.025, 0.05, 0.115, 0.23, 0.55, 1.24, 3.2, 6.74, 16.5, 33.1, 73.5, 153, 321, 674, 1416.9, 2833.8, 5951.1, 12497.3, 26244.4, 55113.3]"
   ]
  },
  {
   "cell_type": "code",
   "execution_count": 32,
   "metadata": {},
   "outputs": [
    {
     "name": "stdout",
     "output_type": "stream",
     "text": [
      "[0.0, 0.0009975433349609375, 0.0019948482513427734, 0.003019571304321289, 0.006952762603759766, 0.01199960708618164, 0.02692866325378418, 0.05083107948303223, 0.09558224678039551, 0.2180042266845703, 0.42084527015686035, 0.7991890907287598, 1.5819132328033447, 3.208414077758789, 6.3653810024261475, 12.85713243484497, 25.986576318740845, 52.48009705543518, 103.4799554347992, 214.6466248035431, 443.3465895652771]\n"
     ]
    }
   ],
   "source": [
    "t_sorted_insert = []\n",
    "\n",
    "for j in range(0, 21):\n",
    "    start_time = time.time()\n",
    "    \n",
    "    SA = SortedArray()\n",
    "    arr = arr_list[j]    \n",
    "    capacity = len(arr) \n",
    "    n = len(arr) \n",
    "    key = 26\n",
    "    for i in range(0, len(arr)):\n",
    "        insertSorted(arr[i], n, key, capacity) \n",
    "\n",
    "    end_time = time.time()\n",
    "    cost_time = end_time - start_time\n",
    "    t_sorted_insert.append(cost_time)\n",
    "    \n",
    "print(t_sorted_insert)"
   ]
  },
  {
   "cell_type": "code",
   "execution_count": 17,
   "metadata": {},
   "outputs": [],
   "source": [
    "%matplotlib inline\n",
    "import matplotlib.pyplot as plt"
   ]
  },
  {
   "cell_type": "code",
   "execution_count": 25,
   "metadata": {},
   "outputs": [],
   "source": [
    "x_axis = [10, 11, 12, 13, 14, 15, 16, 17, 18, 19, 20, 21, 22, 23, 24, 25, 26, 27, 28, 29, 30]"
   ]
  },
  {
   "cell_type": "code",
   "execution_count": 48,
   "metadata": {},
   "outputs": [
    {
     "data": {
      "text/plain": [
       "<matplotlib.legend.Legend at 0x1da3a4ca248>"
      ]
     },
     "execution_count": 48,
     "metadata": {},
     "output_type": "execute_result"
    },
    {
     "data": {
      "image/png": "[encoded data removed]",
      "text/plain": [
       "<Figure size 432x288 with 1 Axes>"
      ]
     },
     "metadata": {
      "needs_background": "light"
     },
     "output_type": "display_data"
    }
   ],
   "source": [
    "# BTree & skip-list & sorted-array\n",
    "plt.plot(x_axis, t_BTree_insert, label='BTree')\n",
    "plt.plot(x_axis, t_skip_insert, label='Skip List')\n",
    "plt.plot(x_axis, t_sorted_insert, label='Sorted Array')\n",
    "plt.legend()"
   ]
  },
  {
   "cell_type": "code",
   "execution_count": 49,
   "metadata": {},
   "outputs": [
    {
     "data": {
      "text/plain": [
       "<matplotlib.legend.Legend at 0x1da396e2188>"
      ]
     },
     "execution_count": 49,
     "metadata": {},
     "output_type": "execute_result"
    },
    {
     "data": {
      "image/png": "[encoded data removed]",
      "text/plain": [
       "<Figure size 432x288 with 1 Axes>"
      ]
     },
     "metadata": {
      "needs_background": "light"
     },
     "output_type": "display_data"
    }
   ],
   "source": [
    "# skip-list & sorted-array\n",
    "\n",
    "plt.plot(x_axis, t_skip_insert, label='Skip List')\n",
    "plt.plot(x_axis, t_sorted_insert, label='Sorted Array')\n",
    "plt.legend()"
   ]
  },
  {
   "cell_type": "markdown",
   "metadata": {},
   "source": [
    "## 搜尋資料\n",
    "    搜尋10萬筆資料"
   ]
  },
  {
   "cell_type": "code",
   "execution_count": 20,
   "metadata": {},
   "outputs": [],
   "source": [
    "arr_search = np.random.randint(1, x, 100000)"
   ]
  },
  {
   "cell_type": "code",
   "execution_count": 51,
   "metadata": {},
   "outputs": [
    {
     "name": "stdout",
     "output_type": "stream",
     "text": [
      "[1.590954303741455, 3.420016288757324, 7.607089042663574, 18.509122371673584, 53.69300580024719, 176.9532561302185, 615.9287014007568]\n"
     ]
    }
   ],
   "source": [
    "t_BTree_search = []\n",
    "\n",
    "for j in range(0, 7):\n",
    "    start_time = time.time()\n",
    "    arr = arr_list[j]\n",
    "    B = BTree(len(arr)*2)\n",
    "    \n",
    "    for i in range(0, len(arr)):\n",
    "        \n",
    "        B.insert((arr[i], i))\n",
    "\n",
    "    for k in range(0, 10000):        \n",
    "        B.search_key(arr_search[k])\n",
    "    \n",
    "    end_time = time.time()\n",
    "    cost_time = end_time - start_time\n",
    "    t_BTree_search.append(cost_time)\n",
    "\n",
    "print(t_BTree_search)"
   ]
  },
  {
   "cell_type": "code",
   "execution_count": 28,
   "metadata": {},
   "outputs": [],
   "source": [
    "# 平均下來當 n多一次方，時間就會多 3.5倍\n",
    "t_BTree_search = [1.6, 3.4, 7.6, 18.5, 53.7, 176.9, 615.9, 1847.7, 6466.9, 19400.8, 67902.9, 203708.9, 611126.7, 1833380.3, 6416831.1, 19250493.4, 57751480.2, 173254440.6, 519763321.8, 1559289962.4, 4677869880]"
   ]
  },
  {
   "cell_type": "code",
   "execution_count": 21,
   "metadata": {
    "scrolled": true
   },
   "outputs": [
    {
     "name": "stdout",
     "output_type": "stream",
     "text": [
      "Found key  91979957\n",
      "Found key  944158959\n",
      "Found key  948613730\n",
      "Found key  817792078\n",
      "Found key  338858483\n",
      "Found key  434862372\n",
      "Found key  66768741\n",
      "Found key  761487198\n",
      "Found key  398242163\n",
      "Found key  858909947\n",
      "Found key  911037733\n",
      "Found key  484806690\n",
      "Found key  292068496\n",
      "Found key  489913174\n",
      "Found key  196593578\n",
      "Found key  307324075\n",
      "Found key  97591735\n",
      "Found key  271691871\n",
      "Found key  330491978\n",
      "Found key  251386008\n",
      "Found key  846874935\n",
      "Found key  166275293\n",
      "Found key  54614487\n",
      "Found key  761505138\n",
      "Found key  474386861\n",
      "Found key  747151732\n",
      "Found key  427983783\n",
      "Found key  587167699\n",
      "Found key  187243314\n",
      "Found key  349540867\n",
      "Found key  447808938\n",
      "Found key  975015703\n",
      "Found key  321708448\n",
      "Found key  320474266\n",
      "Found key  250135849\n",
      "Found key  983632236\n",
      "Found key  89907076\n",
      "Found key  843526885\n",
      "Found key  644539172\n",
      "Found key  380427618\n",
      "Found key  163051590\n",
      "Found key  801200153\n",
      "Found key  320848584\n",
      "Found key  864259241\n",
      "Found key  595952146\n",
      "[0.05884218215942383, 0.07878971099853516, 0.10474705696105957, 0.1705172061920166, 0.3680150508880615, 0.7041163444519043, 1.4271819591522217, 3.0611846446990967, 7.187781095504761, 14.931043148040771, 33.271015882492065, 73.30388855934143]\n"
     ]
    }
   ],
   "source": [
    "t_skip_search = []\n",
    "\n",
    "for j in range(0, 12):\n",
    "    arr = arr_list[j]\n",
    "    SL = SkipList(1024, 0.5)\n",
    "    start_time = time.time()\n",
    "    \n",
    "    for i in range(0, len(arr)):\n",
    "        SL.insertElement(arr[i])\n",
    "    for k in range(0, 10000):        \n",
    "        SL.searchElement(arr_search[k])\n",
    "        \n",
    "    end_time = time.time()\n",
    "    cost_time = end_time - start_time\n",
    "    t_skip_search.append(cost_time)\n",
    "\n",
    "print(t_skip_search)"
   ]
  },
  {
   "cell_type": "code",
   "execution_count": 22,
   "metadata": {},
   "outputs": [
    {
     "data": {
      "text/plain": [
       "21"
      ]
     },
     "execution_count": 22,
     "metadata": {},
     "output_type": "execute_result"
    }
   ],
   "source": [
    "# 平均下來當 n多一次方，時間成 2.2倍\n",
    "t_skip_search = [0.0588, 0.7879, 0.104, 0.17, 0.368, 0.704, 1.4, 3.06, 7.18, 14.93, 33.27, 73.3, 161.26, 354.772, 780.5, 1717, 3777.62, 8310.76, 18283, 40224.1, 88493]"
   ]
  },
  {
   "cell_type": "code",
   "execution_count": 31,
   "metadata": {},
   "outputs": [
    {
     "name": "stdout",
     "output_type": "stream",
     "text": [
      "[0.06685233116149902, 0.07377171516418457, 0.08078384399414062, 0.09076237678527832, 0.09374427795410156, 0.11170101165771484, 0.15558290481567383, 0.16057062149047852, 0.21941328048706055, 0.32114100456237793, 0.5236272811889648, 0.9793519973754883, 1.847057580947876, 3.3291244506835938, 6.464674472808838, 13.357264757156372, 25.385154485702515, 50.445035219192505, 105.72617411613464, 201.7452347278595, 403.24318861961365]\n"
     ]
    }
   ],
   "source": [
    "t_sorted_search = []\n",
    "\n",
    "for j in range(0, 21):\n",
    "    start_time = time.time()\n",
    "    \n",
    "    SA = SortedArray()\n",
    "    arr = arr_list[j]    \n",
    "    capacity = len(arr) \n",
    "    n = len(arr) \n",
    "    key = 26\n",
    "    for i in range(0, len(arr)):\n",
    "        insertSorted(arr[i], n, key, capacity) \n",
    "    for k in range(0, 10000):        \n",
    "        binarySearch(arr_search[k], 0, n, key)\n",
    "\n",
    "    end_time = time.time()\n",
    "    cost_time = end_time - start_time\n",
    "    t_sorted_search.append(cost_time)\n",
    "    \n",
    "print(t_sorted_search)"
   ]
  },
  {
   "cell_type": "code",
   "execution_count": 32,
   "metadata": {},
   "outputs": [
    {
     "data": {
      "text/plain": [
       "<matplotlib.legend.Legend at 0x24be8ad5348>"
      ]
     },
     "execution_count": 32,
     "metadata": {},
     "output_type": "execute_result"
    },
    {
     "data": {
      "image/png": "[encoded data removed]",
      "text/plain": [
       "<Figure size 432x288 with 1 Axes>"
      ]
     },
     "metadata": {
      "needs_background": "light"
     },
     "output_type": "display_data"
    }
   ],
   "source": [
    "# BTree & skip-list & sorted-array\n",
    "plt.plot(x_axis, t_BTree_search, label='BTree')\n",
    "plt.plot(x_axis, t_skip_search, label='Skip List')\n",
    "plt.plot(x_axis, t_sorted_search, label='Sorted Array')\n",
    "plt.legend()"
   ]
  },
  {
   "cell_type": "code",
   "execution_count": 34,
   "metadata": {},
   "outputs": [
    {
     "data": {
      "text/plain": [
       "<matplotlib.legend.Legend at 0x24be8b59cc8>"
      ]
     },
     "execution_count": 34,
     "metadata": {},
     "output_type": "execute_result"
    },
    {
     "data": {
      "image/png": "[encoded data removed]",
      "text/plain": [
       "<Figure size 432x288 with 1 Axes>"
      ]
     },
     "metadata": {
      "needs_background": "light"
     },
     "output_type": "display_data"
    }
   ],
   "source": [
    "# skip-list & sorted-array\n",
    "plt.plot(x_axis, t_skip_search, label='Skip List')\n",
    "plt.plot(x_axis, t_sorted_search, label='Sorted Array')\n",
    "plt.legend()"
   ]
  },
  {
   "cell_type": "code",
   "execution_count": null,
   "metadata": {},
   "outputs": [],
   "source": []
  }
 ],
 "metadata": {
  "kernelspec": {
   "display_name": "Python 3",
   "language": "python",
   "name": "python3"
  },
  "language_info": {
   "codemirror_mode": {
    "name": "ipython",
    "version": 3
   },
   "file_extension": ".py",
   "mimetype": "text/x-python",
   "name": "python",
   "nbconvert_exporter": "python",
   "pygments_lexer": "ipython3",
   "version": "3.7.6"
  }
 },
 "nbformat": 4,
 "nbformat_minor": 4
}
