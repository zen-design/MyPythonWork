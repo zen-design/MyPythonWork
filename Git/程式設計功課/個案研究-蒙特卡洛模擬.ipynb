{
 "cells": [
  {
   "cell_type": "code",
   "execution_count": 1,
   "metadata": {},
   "outputs": [
    {
     "name": "stdout",
     "output_type": "stream",
     "text": [
      "PI is 3.142764\n"
     ]
    }
   ],
   "source": [
    "import random\n",
    "\n",
    "NUMBER_OF_TRIALS = 1000000\n",
    "numberOfHits = 0\n",
    "\n",
    "for i in range(NUMBER_OF_TRIALS):\n",
    "    x = random.random() * 2 - 1\n",
    "    y = random.random() * 2 - 1\n",
    "    \n",
    "    if x * x + y * y <= 1:\n",
    "        numberOfHits += 1\n",
    "        \n",
    "pi = 4 * numberOfHits / NUMBER_OF_TRIALS\n",
    "print(\"PI is\", pi)"
   ]
  },
  {
   "cell_type": "code",
   "execution_count": null,
   "metadata": {},
   "outputs": [],
   "source": []
  }
 ],
 "metadata": {
  "kernelspec": {
   "display_name": "Python 3",
   "language": "python",
   "name": "python3"
  },
  "language_info": {
   "codemirror_mode": {
    "name": "ipython",
    "version": 3
   },
   "file_extension": ".py",
   "mimetype": "text/x-python",
   "name": "python",
   "nbconvert_exporter": "python",
   "pygments_lexer": "ipython3",
   "version": "3.7.3"
  }
 },
 "nbformat": 4,
 "nbformat_minor": 2
}
