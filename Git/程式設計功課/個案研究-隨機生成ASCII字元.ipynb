{
 "cells": [
  {
   "cell_type": "code",
   "execution_count": 6,
   "metadata": {},
   "outputs": [
    {
     "name": "stdout",
     "output_type": "stream",
     "text": [
      "evmlrptsvgbsnbwluywbqssml\n",
      "awchhnsyieuvynozjhbdhldlc\n",
      "oqseqdqbqtqnlmgtidruuneqk\n",
      "yqalbwhwlsuwajndhvpsgsfay\n",
      "lomfhdbgdyvvptnvzrnyciipl\n",
      "injaoahpxhesybenmhwhemawc\n",
      "jhtearwoxmeknqkvfnrfdhyiy\n"
     ]
    }
   ],
   "source": [
    "from random import randint\n",
    "\n",
    "def getRandomCharacter(ch1, ch2):\n",
    "    return chr(randint(ord(ch1), ord(ch2)))\n",
    "\n",
    "def getRandomLowerCaseLetter():\n",
    "    return getRandomCharacter('a', 'z')\n",
    "\n",
    "def getRandomUpperCaseLetter():\n",
    "    return getRandomCharacter('A', 'Z')\n",
    "\n",
    "def getRandomDigitCharacter():\n",
    "    return getRandomCharacter('0', '9')\n",
    "\n",
    "def getRandomASCIICharacter():\n",
    "    return chr(randint(0, 127))\n",
    "\n",
    "NUMBER_OF_CHARS = 175\n",
    "CHARS_PER_LINE = 25\n",
    "\n",
    "for i in range(NUMBER_OF_CHARS):\n",
    "    print(getRandomLowerCaseLetter(), end = '')\n",
    "    if (i + 1) % CHARS_PER_LINE == 0:\n",
    "        print()"
   ]
  },
  {
   "cell_type": "code",
   "execution_count": null,
   "metadata": {},
   "outputs": [],
   "source": []
  },
  {
   "cell_type": "code",
   "execution_count": null,
   "metadata": {},
   "outputs": [],
   "source": []
  }
 ],
 "metadata": {
  "kernelspec": {
   "display_name": "Python 3",
   "language": "python",
   "name": "python3"
  },
  "language_info": {
   "codemirror_mode": {
    "name": "ipython",
    "version": 3
   },
   "file_extension": ".py",
   "mimetype": "text/x-python",
   "name": "python",
   "nbconvert_exporter": "python",
   "pygments_lexer": "ipython3",
   "version": "3.7.3"
  }
 },
 "nbformat": 4,
 "nbformat_minor": 2
}
