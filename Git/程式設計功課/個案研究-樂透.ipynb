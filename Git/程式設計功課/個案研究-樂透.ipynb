{
 "cells": [
  {
   "cell_type": "code",
   "execution_count": 3,
   "metadata": {},
   "outputs": [
    {
     "name": "stdout",
     "output_type": "stream",
     "text": [
      "Enter your lottery pick (two digits): 23\n",
      "The lottery number is  68\n",
      "Sorry, no match\n"
     ]
    }
   ],
   "source": [
    "import random\n",
    "\n",
    "lottery = random.randint(0, 99)\n",
    "guess = eval(input(\"Enter your lottery pick (two digits): \"))\n",
    "\n",
    "lotteryDigit1 = lottery // 10\n",
    "lotteryDigit2 = lottery % 10\n",
    "\n",
    "guessDigit1 = guess // 10\n",
    "guessDigit2 = guess % 10\n",
    "\n",
    "print(\"The lottery number is \", lottery)\n",
    "\n",
    "if guess == lottery:\n",
    "    print(\"Exact much: you win $10,000\")\n",
    "elif (guessDigit2 == lotteryDigit1 and guessDigit1 == lotteryDigit2):\n",
    "    print(\"Match all digits: you win $3,000\")\n",
    "elif (guessDigit1 == lotteryDigit1 or guessDigit1 == lotteryDigit2 or guessDigit2 == lotteryDigit1 or guessDigit2 == lotteryDigit2):\n",
    "    print(\"Match one digit: you win $1,000\")\n",
    "else:\n",
    "    print(\"Sorry, no match\")"
   ]
  },
  {
   "cell_type": "code",
   "execution_count": null,
   "metadata": {},
   "outputs": [],
   "source": []
  }
 ],
 "metadata": {
  "kernelspec": {
   "display_name": "Python 3",
   "language": "python",
   "name": "python3"
  },
  "language_info": {
   "codemirror_mode": {
    "name": "ipython",
    "version": 3
   },
   "file_extension": ".py",
   "mimetype": "text/x-python",
   "name": "python",
   "nbconvert_exporter": "python",
   "pygments_lexer": "ipython3",
   "version": "3.7.3"
  }
 },
 "nbformat": 4,
 "nbformat_minor": 2
}
