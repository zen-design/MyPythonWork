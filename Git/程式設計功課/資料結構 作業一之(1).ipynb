{
 "cells": [
  {
   "cell_type": "markdown",
   "metadata": {},
   "source": [
    "#### LogSum(n)\n",
    "\n",
    "    輸入 : 整數 n\n",
    "    輸出 : log(1), log(2), log(3), ..., log(n)的總和 (log以10為底)"
   ]
  },
  {
   "cell_type": "code",
   "execution_count": 2,
   "metadata": {},
   "outputs": [],
   "source": [
    "%matplotlib inline\n",
    "import matplotlib.pyplot as plt\n",
    "import numpy as np\n",
    "import time"
   ]
  },
  {
   "cell_type": "code",
   "execution_count": 3,
   "metadata": {
    "scrolled": true
   },
   "outputs": [
    {
     "name": "stdout",
     "output_type": "stream",
     "text": [
      "LogSum(10^7*1) = 151180949.36947405\n",
      "LogSum(10^7*2) = 467405798.5131569\n",
      "LogSum(10^7*3) = 953907029.012534\n",
      "LogSum(10^7*4) = 1614082621.6624105\n",
      "LogSum(10^7*5) = 2450459291.887203\n",
      "LogSum(10^7*6) = 3465050591.062388\n",
      "LogSum(10^7*7) = 4659530988.95027\n",
      "LogSum(10^7*8) = 6035333956.181498\n",
      "LogSum(10^7*9) = 7593712768.489271\n"
     ]
    },
    {
     "data": {
      "text/plain": [
       "Text(0, 0.5, 'used_time')"
      ]
     },
     "execution_count": 3,
     "metadata": {},
     "output_type": "execute_result"
    },
    {
     "data": {
      "image/png": "[encoded data removed]",
      "text/plain": [
       "<Figure size 432x288 with 1 Axes>"
      ]
     },
     "metadata": {
      "needs_background": "light"
     },
     "output_type": "display_data"
    }
   ],
   "source": [
    "test_num_list = []\n",
    "num_sum = []\n",
    "used_time = [0]\n",
    "\n",
    "for i in range(1, 10):\n",
    "    test_num = 10**7 * i\n",
    "    test_num_list.append(test_num)\n",
    "    \n",
    "for j in range(0, len(test_num_list)):\n",
    "    start_time = time.time()\n",
    "    for k in range(1, test_num_list[j]):\n",
    "        num_sum.append(k)\n",
    "    LogSum =  np.sum(np.log(num_sum))\n",
    "    print(f\"LogSum(10^7*{j+1}) = {LogSum}\")\n",
    "    end_time = time.time()\n",
    "    used_time.append(end_time - start_time)\n",
    "\n",
    "plt.plot(used_time)\n",
    "plt.xlabel('n')\n",
    "plt.ylabel('used_time')\n",
    "#由於跑到 10^8時會產生 MemoryError所以只跑到 10^7*9"
   ]
  },
  {
   "cell_type": "code",
   "execution_count": null,
   "metadata": {},
   "outputs": [],
   "source": []
  },
  {
   "cell_type": "code",
   "execution_count": null,
   "metadata": {},
   "outputs": [],
   "source": []
  }
 ],
 "metadata": {
  "kernelspec": {
   "display_name": "Python 3",
   "language": "python",
   "name": "python3"
  },
  "language_info": {
   "codemirror_mode": {
    "name": "ipython",
    "version": 3
   },
   "file_extension": ".py",
   "mimetype": "text/x-python",
   "name": "python",
   "nbconvert_exporter": "python",
   "pygments_lexer": "ipython3",
   "version": "3.7.3"
  }
 },
 "nbformat": 4,
 "nbformat_minor": 2
}
