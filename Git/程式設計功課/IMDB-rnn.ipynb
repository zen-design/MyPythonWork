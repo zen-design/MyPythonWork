{
 "cells": [
  {
   "cell_type": "code",
   "execution_count": 1,
   "metadata": {},
   "outputs": [],
   "source": [
    "%matplotlib inline\n",
    "\n",
    "import numpy as np\n",
    "import matplotlib.pyplot as plt\n",
    "import pandas as pd"
   ]
  },
  {
   "cell_type": "code",
   "execution_count": 2,
   "metadata": {},
   "outputs": [],
   "source": [
    "from tensorflow.keras.preprocessing import sequence\n",
    "from tensorflow.keras.models import Sequential\n",
    "from tensorflow.keras.layers import Dense, Embedding\n",
    "from tensorflow.keras.layers import LSTM\n",
    "from tensorflow.keras.datasets import imdb"
   ]
  },
  {
   "cell_type": "code",
   "execution_count": 3,
   "metadata": {},
   "outputs": [],
   "source": [
    "(x_train, y_train), (x_test, y_test) = imdb.load_data(num_words=20000)"
   ]
  },
  {
   "cell_type": "code",
   "execution_count": 4,
   "metadata": {},
   "outputs": [
    {
     "data": {
      "text/plain": [
       "25000"
      ]
     },
     "execution_count": 4,
     "metadata": {},
     "output_type": "execute_result"
    }
   ],
   "source": [
    "len(x_train)"
   ]
  },
  {
   "cell_type": "code",
   "execution_count": 5,
   "metadata": {},
   "outputs": [
    {
     "data": {
      "text/plain": [
       "25000"
      ]
     },
     "execution_count": 5,
     "metadata": {},
     "output_type": "execute_result"
    }
   ],
   "source": [
    "len(x_test)"
   ]
  },
  {
   "cell_type": "code",
   "execution_count": 6,
   "metadata": {},
   "outputs": [
    {
     "data": {
      "text/plain": [
       "218"
      ]
     },
     "execution_count": 6,
     "metadata": {},
     "output_type": "execute_result"
    }
   ],
   "source": [
    "len(x_train[0])"
   ]
  },
  {
   "cell_type": "code",
   "execution_count": 7,
   "metadata": {},
   "outputs": [
    {
     "data": {
      "text/plain": [
       "189"
      ]
     },
     "execution_count": 7,
     "metadata": {},
     "output_type": "execute_result"
    }
   ],
   "source": [
    "len(x_train[1])"
   ]
  },
  {
   "cell_type": "markdown",
   "metadata": {},
   "source": [
    "### 資料處理 (Zero-padding)"
   ]
  },
  {
   "cell_type": "code",
   "execution_count": 10,
   "metadata": {},
   "outputs": [],
   "source": [
    "x_train = sequence.pad_sequences(x_train, maxlen=50)\n",
    "x_test = sequence.pad_sequences(x_test, maxlen=50)"
   ]
  },
  {
   "cell_type": "code",
   "execution_count": 11,
   "metadata": {},
   "outputs": [
    {
     "data": {
      "text/plain": [
       "array([2071,   56,   26,  141,    6,  194, 7486,   18,    4,  226,   22,\n",
       "         21,  134,  476,   26,  480,    5,  144,   30, 5535,   18,   51,\n",
       "         36,   28,  224,   92,   25,  104,    4,  226,   65,   16,   38,\n",
       "       1334,   88,   12,   16,  283,    5,   16, 4472,  113,  103,   32,\n",
       "         15,   16, 5345,   19,  178,   32])"
      ]
     },
     "execution_count": 11,
     "metadata": {},
     "output_type": "execute_result"
    }
   ],
   "source": [
    "x_train[0]"
   ]
  },
  {
   "cell_type": "code",
   "execution_count": 24,
   "metadata": {},
   "outputs": [],
   "source": [
    "model = Sequential()\n",
    "model.add(Embedding(20000, 256))\n",
    "model.add(LSTM(64, dropout=0.1, recurrent_dropout=0.1))\n",
    "model.add(Dense(1, activation='relu'))\n",
    "model.compile(loss='binary_crossentropy', optimizer='adam', metrics=['accuracy'])"
   ]
  },
  {
   "cell_type": "markdown",
   "metadata": {},
   "source": [
    "#### 修改\n",
    "    1. 字典大小變成20000個字\n",
    "    2. 由20000維壓成256維度\n",
    "    3. LSTM -> 64 ; dropout -> 0.1\n",
    "    4. Dense的Activation func -> relu"
   ]
  },
  {
   "cell_type": "code",
   "execution_count": 25,
   "metadata": {},
   "outputs": [
    {
     "name": "stdout",
     "output_type": "stream",
     "text": [
      "Model: \"sequential_3\"\n",
      "_________________________________________________________________\n",
      "Layer (type)                 Output Shape              Param #   \n",
      "=================================================================\n",
      "embedding_3 (Embedding)      (None, None, 256)         5120000   \n",
      "_________________________________________________________________\n",
      "lstm_3 (LSTM)                (None, 64)                82176     \n",
      "_________________________________________________________________\n",
      "dense_3 (Dense)              (None, 1)                 65        \n",
      "=================================================================\n",
      "Total params: 5,202,241\n",
      "Trainable params: 5,202,241\n",
      "Non-trainable params: 0\n",
      "_________________________________________________________________\n"
     ]
    }
   ],
   "source": [
    "model.summary()"
   ]
  },
  {
   "cell_type": "code",
   "execution_count": 26,
   "metadata": {},
   "outputs": [
    {
     "data": {
      "text/plain": [
       "82176"
      ]
     },
     "execution_count": 26,
     "metadata": {},
     "output_type": "execute_result"
    }
   ],
   "source": [
    "(64+256+1)*4*64"
   ]
  },
  {
   "cell_type": "markdown",
   "metadata": {},
   "source": [
    "### Test"
   ]
  },
  {
   "cell_type": "code",
   "execution_count": 27,
   "metadata": {},
   "outputs": [
    {
     "name": "stdout",
     "output_type": "stream",
     "text": [
      "Train on 25000 samples, validate on 25000 samples\n",
      "Epoch 1/12\n",
      "25000/25000 [==============================] - 64s 3ms/sample - loss: 0.6131 - accuracy: 0.7210 - val_loss: 0.4608 - val_accuracy: 0.8084\n",
      "Epoch 2/12\n",
      "25000/25000 [==============================] - 60s 2ms/sample - loss: 1.2032 - accuracy: 0.7891 - val_loss: 0.5144 - val_accuracy: 0.7879\n",
      "Epoch 3/12\n",
      "25000/25000 [==============================] - 60s 2ms/sample - loss: 0.3788 - accuracy: 0.8554 - val_loss: 0.6281 - val_accuracy: 0.8013\n",
      "Epoch 4/12\n",
      "25000/25000 [==============================] - 62s 2ms/sample - loss: 0.4568 - accuracy: 0.8131 - val_loss: 0.6299 - val_accuracy: 0.7242\n",
      "Epoch 5/12\n",
      "25000/25000 [==============================] - 59s 2ms/sample - loss: 0.3473 - accuracy: 0.8830 - val_loss: 0.7150 - val_accuracy: 0.7946\n",
      "Epoch 6/12\n",
      "25000/25000 [==============================] - 60s 2ms/sample - loss: 0.2456 - accuracy: 0.9263 - val_loss: 0.9045 - val_accuracy: 0.7997\n",
      "Epoch 7/12\n",
      "25000/25000 [==============================] - 64s 3ms/sample - loss: 0.1915 - accuracy: 0.9485 - val_loss: 1.0741 - val_accuracy: 0.7916\n",
      "Epoch 8/12\n",
      "25000/25000 [==============================] - 61s 2ms/sample - loss: 0.1799 - accuracy: 0.9537 - val_loss: 1.2354 - val_accuracy: 0.7876\n",
      "Epoch 9/12\n",
      "25000/25000 [==============================] - 61s 2ms/sample - loss: 0.1427 - accuracy: 0.9644 - val_loss: 1.6069 - val_accuracy: 0.7866\n",
      "Epoch 10/12\n",
      "25000/25000 [==============================] - 62s 2ms/sample - loss: 0.1858 - accuracy: 0.9496 - val_loss: 1.4958 - val_accuracy: 0.7806\n",
      "Epoch 11/12\n",
      "25000/25000 [==============================] - 66s 3ms/sample - loss: 0.1149 - accuracy: 0.9749 - val_loss: 1.8004 - val_accuracy: 0.7811\n",
      "Epoch 12/12\n",
      "25000/25000 [==============================] - 64s 3ms/sample - loss: 0.0980 - accuracy: 0.9835 - val_loss: 1.7614 - val_accuracy: 0.7799\n"
     ]
    },
    {
     "data": {
      "text/plain": [
       "<tensorflow.python.keras.callbacks.History at 0x1e3b2ddf948>"
      ]
     },
     "execution_count": 27,
     "metadata": {},
     "output_type": "execute_result"
    }
   ],
   "source": [
    "model.fit(x_train, y_train, batch_size=64, epochs=12, validation_data=(x_test, y_test))"
   ]
  },
  {
   "cell_type": "markdown",
   "metadata": {},
   "source": [
    "#### 結果\n",
    "    由於測試資料的正確率並沒有如預期的上升，而損失函數也是上校跳動的，很明顯的是  over-fitting了"
   ]
  },
  {
   "cell_type": "code",
   "execution_count": null,
   "metadata": {},
   "outputs": [],
   "source": []
  }
 ],
 "metadata": {
  "kernelspec": {
   "display_name": "Python 3",
   "language": "python",
   "name": "python3"
  },
  "language_info": {
   "codemirror_mode": {
    "name": "ipython",
    "version": 3
   },
   "file_extension": ".py",
   "mimetype": "text/x-python",
   "name": "python",
   "nbconvert_exporter": "python",
   "pygments_lexer": "ipython3",
   "version": "3.7.6"
  }
 },
 "nbformat": 4,
 "nbformat_minor": 4
}
