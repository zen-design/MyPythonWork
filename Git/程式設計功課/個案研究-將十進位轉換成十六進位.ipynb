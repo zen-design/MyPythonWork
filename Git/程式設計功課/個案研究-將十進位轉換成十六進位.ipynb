{
 "cells": [
  {
   "cell_type": "code",
   "execution_count": 2,
   "metadata": {},
   "outputs": [
    {
     "name": "stdout",
     "output_type": "stream",
     "text": [
      "Enter a decimal number: 1234\n",
      "The hex number for decimal 1234 is 4D2 \n"
     ]
    }
   ],
   "source": [
    "def decimalToHex(decimalValue):\n",
    "    hex = ' '\n",
    "    \n",
    "    while decimalValue != 0:\n",
    "        hexValue = decimalValue % 16\n",
    "        hex = toHexChar(hexValue) + hex\n",
    "        decimalValue = decimalValue // 16\n",
    "    \n",
    "    return hex\n",
    "\n",
    "def toHexChar(hexValue):\n",
    "    if 0 <= hexValue <= 9:\n",
    "        return chr(hexValue + ord('0'))\n",
    "    else:\n",
    "        return chr(hexValue - 10 + ord('A'))\n",
    "    \n",
    "def main():\n",
    "    decimalValue = eval(input(\"Enter a decimal number: \"))\n",
    "    print(\"The hex number for decimal\", decimalValue, \"is\", decimalToHex(decimalValue))\n",
    "    \n",
    "main()"
   ]
  },
  {
   "cell_type": "code",
   "execution_count": null,
   "metadata": {},
   "outputs": [],
   "source": []
  }
 ],
 "metadata": {
  "kernelspec": {
   "display_name": "Python 3",
   "language": "python",
   "name": "python3"
  },
  "language_info": {
   "codemirror_mode": {
    "name": "ipython",
    "version": 3
   },
   "file_extension": ".py",
   "mimetype": "text/x-python",
   "name": "python",
   "nbconvert_exporter": "python",
   "pygments_lexer": "ipython3",
   "version": "3.7.3"
  }
 },
 "nbformat": 4,
 "nbformat_minor": 2
}
