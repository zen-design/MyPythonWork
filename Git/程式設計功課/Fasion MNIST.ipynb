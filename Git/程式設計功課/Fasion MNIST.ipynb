{
 "cells": [
  {
   "cell_type": "code",
   "execution_count": 11,
   "metadata": {},
   "outputs": [],
   "source": [
    "%matplotlib inline\n",
    "import numpy as np\n",
    "import matplotlib.pyplot as plt\n",
    "import tensorflow as tf\n",
    "from tensorflow.keras.utils import to_categorical"
   ]
  },
  {
   "cell_type": "markdown",
   "metadata": {},
   "source": [
    "### 1. 讀入 Fashion MNSIT 數據集\n"
   ]
  },
  {
   "cell_type": "code",
   "execution_count": 2,
   "metadata": {},
   "outputs": [],
   "source": [
    "from tensorflow.keras.datasets import fashion_mnist"
   ]
  },
  {
   "cell_type": "code",
   "execution_count": 4,
   "metadata": {},
   "outputs": [
    {
     "name": "stdout",
     "output_type": "stream",
     "text": [
      "Downloading data from https://storage.googleapis.com/tensorflow/tf-keras-datasets/train-labels-idx1-ubyte.gz\n",
      "32768/29515 [=================================] - 0s 0us/step\n",
      "Downloading data from https://storage.googleapis.com/tensorflow/tf-keras-datasets/train-images-idx3-ubyte.gz\n",
      "26427392/26421880 [==============================] - 21s 1us/step\n",
      "Downloading data from https://storage.googleapis.com/tensorflow/tf-keras-datasets/t10k-labels-idx1-ubyte.gz\n",
      "8192/5148 [===============================================] - 0s 0us/step\n",
      "Downloading data from https://storage.googleapis.com/tensorflow/tf-keras-datasets/t10k-images-idx3-ubyte.gz\n",
      "4423680/4422102 [==============================] - 3s 1us/step\n"
     ]
    }
   ],
   "source": [
    "(x_train, y_train), (x_test, y_test) = fashion_mnist.load_data()"
   ]
  },
  {
   "cell_type": "code",
   "execution_count": 5,
   "metadata": {},
   "outputs": [
    {
     "data": {
      "text/plain": [
       "10000"
      ]
     },
     "execution_count": 5,
     "metadata": {},
     "output_type": "execute_result"
    }
   ],
   "source": [
    "len(x_test)"
   ]
  },
  {
   "cell_type": "code",
   "execution_count": 8,
   "metadata": {},
   "outputs": [
    {
     "data": {
      "text/plain": [
       "<matplotlib.image.AxesImage at 0x1e58d067208>"
      ]
     },
     "execution_count": 8,
     "metadata": {},
     "output_type": "execute_result"
    },
    {
     "data": {
      "image/png": "[encoded data removed]",
      "text/plain": [
       "<Figure size 432x288 with 1 Axes>"
      ]
     },
     "metadata": {
      "needs_background": "light"
     },
     "output_type": "display_data"
    }
   ],
   "source": [
    "plt.imshow(x_train[1441], cmap='Greys')"
   ]
  },
  {
   "cell_type": "markdown",
   "metadata": {},
   "source": [
    "### 2. 資料整理"
   ]
  },
  {
   "cell_type": "code",
   "execution_count": 9,
   "metadata": {},
   "outputs": [
    {
     "data": {
      "text/plain": [
       "(60000, 28, 28)"
      ]
     },
     "execution_count": 9,
     "metadata": {},
     "output_type": "execute_result"
    }
   ],
   "source": [
    "x_train.shape"
   ]
  },
  {
   "cell_type": "code",
   "execution_count": 10,
   "metadata": {},
   "outputs": [],
   "source": [
    "x_train = x_train.reshape(60000, 784)\n",
    "x_test = x_test.reshape(10000, 784)"
   ]
  },
  {
   "cell_type": "code",
   "execution_count": 12,
   "metadata": {},
   "outputs": [],
   "source": [
    "y_train = to_categorical(y_train, 10)\n",
    "y_test = to_categorical(y_test, 10)"
   ]
  },
  {
   "cell_type": "markdown",
   "metadata": {},
   "source": [
    "### 3. 打造神經網路"
   ]
  },
  {
   "cell_type": "code",
   "execution_count": 25,
   "metadata": {},
   "outputs": [],
   "source": [
    "from tensorflow.keras.models import Sequential\n",
    "from tensorflow.keras.layers import Dense\n",
    "from tensorflow.keras.optimizers import SGD"
   ]
  },
  {
   "cell_type": "code",
   "execution_count": 36,
   "metadata": {},
   "outputs": [],
   "source": [
    "model = Sequential()"
   ]
  },
  {
   "cell_type": "code",
   "execution_count": 37,
   "metadata": {},
   "outputs": [],
   "source": [
    "model.add(Dense(64, input_dim=784, activation='sigmoid'))"
   ]
  },
  {
   "cell_type": "code",
   "execution_count": 38,
   "metadata": {},
   "outputs": [],
   "source": [
    "model.add(Dense(16, activation='relu'))"
   ]
  },
  {
   "cell_type": "code",
   "execution_count": 39,
   "metadata": {},
   "outputs": [],
   "source": [
    "model.add(Dense(10, activation='softmax'))"
   ]
  },
  {
   "cell_type": "markdown",
   "metadata": {},
   "source": [
    "### 4. 組裝神經網路"
   ]
  },
  {
   "cell_type": "code",
   "execution_count": 40,
   "metadata": {},
   "outputs": [],
   "source": [
    "model.compile(loss='mse', optimizer=SGD(lr=0.06), metrics=['accuracy'])"
   ]
  },
  {
   "cell_type": "code",
   "execution_count": 41,
   "metadata": {
    "scrolled": true
   },
   "outputs": [
    {
     "name": "stdout",
     "output_type": "stream",
     "text": [
      "Model: \"sequential_2\"\n",
      "_________________________________________________________________\n",
      "Layer (type)                 Output Shape              Param #   \n",
      "=================================================================\n",
      "dense_9 (Dense)              (None, 64)                50240     \n",
      "_________________________________________________________________\n",
      "dense_10 (Dense)             (None, 16)                1040      \n",
      "_________________________________________________________________\n",
      "dense_11 (Dense)             (None, 10)                170       \n",
      "=================================================================\n",
      "Total params: 51,450\n",
      "Trainable params: 51,450\n",
      "Non-trainable params: 0\n",
      "_________________________________________________________________\n"
     ]
    }
   ],
   "source": [
    "model.summary()"
   ]
  },
  {
   "cell_type": "markdown",
   "metadata": {},
   "source": [
    "### 5. 訓練"
   ]
  },
  {
   "cell_type": "code",
   "execution_count": 42,
   "metadata": {
    "scrolled": true
   },
   "outputs": [
    {
     "name": "stdout",
     "output_type": "stream",
     "text": [
      "Train on 60000 samples\n",
      "Epoch 1/20\n",
      "60000/60000 [==============================] - 1s 10us/sample - loss: 0.0925 - accuracy: 0.1156\n",
      "Epoch 2/20\n",
      "60000/60000 [==============================] - 0s 7us/sample - loss: 0.0861 - accuracy: 0.1951\n",
      "Epoch 3/20\n",
      "60000/60000 [==============================] - 0s 7us/sample - loss: 0.0824 - accuracy: 0.2608\n",
      "Epoch 4/20\n",
      "60000/60000 [==============================] - 0s 7us/sample - loss: 0.0790 - accuracy: 0.3304\n",
      "Epoch 5/20\n",
      "60000/60000 [==============================] - 0s 7us/sample - loss: 0.0760 - accuracy: 0.4030\n",
      "Epoch 6/20\n",
      "60000/60000 [==============================] - 0s 7us/sample - loss: 0.0731 - accuracy: 0.4423\n",
      "Epoch 7/20\n",
      "60000/60000 [==============================] - 0s 7us/sample - loss: 0.0705 - accuracy: 0.4681\n",
      "Epoch 8/20\n",
      "60000/60000 [==============================] - 0s 7us/sample - loss: 0.0679 - accuracy: 0.4889\n",
      "Epoch 9/20\n",
      "60000/60000 [==============================] - 0s 7us/sample - loss: 0.0655 - accuracy: 0.5113\n",
      "Epoch 10/20\n",
      "60000/60000 [==============================] - 0s 7us/sample - loss: 0.0634 - accuracy: 0.5307\n",
      "Epoch 11/20\n",
      "60000/60000 [==============================] - 0s 7us/sample - loss: 0.0613 - accuracy: 0.5470\n",
      "Epoch 12/20\n",
      "60000/60000 [==============================] - 0s 7us/sample - loss: 0.0594 - accuracy: 0.5609\n",
      "Epoch 13/20\n",
      "60000/60000 [==============================] - 0s 7us/sample - loss: 0.0574 - accuracy: 0.5692\n",
      "Epoch 14/20\n",
      "60000/60000 [==============================] - 0s 7us/sample - loss: 0.0557 - accuracy: 0.5793\n",
      "Epoch 15/20\n",
      "60000/60000 [==============================] - 0s 7us/sample - loss: 0.0539 - accuracy: 0.6097\n",
      "Epoch 16/20\n",
      "60000/60000 [==============================] - 0s 7us/sample - loss: 0.0523 - accuracy: 0.6463\n",
      "Epoch 17/20\n",
      "60000/60000 [==============================] - 0s 7us/sample - loss: 0.0507 - accuracy: 0.6600\n",
      "Epoch 18/20\n",
      "60000/60000 [==============================] - 0s 7us/sample - loss: 0.0490 - accuracy: 0.6788\n",
      "Epoch 19/20\n",
      "60000/60000 [==============================] - 0s 7us/sample - loss: 0.0475 - accuracy: 0.6887\n",
      "Epoch 20/20\n",
      "60000/60000 [==============================] - 0s 7us/sample - loss: 0.0460 - accuracy: 0.6930\n"
     ]
    },
    {
     "data": {
      "text/plain": [
       "<tensorflow.python.keras.callbacks.History at 0x1e5a25c8c08>"
      ]
     },
     "execution_count": 42,
     "metadata": {},
     "output_type": "execute_result"
    }
   ],
   "source": [
    "model.fit(x_train, y_train, batch_size=500, epochs=20)"
   ]
  },
  {
   "cell_type": "code",
   "execution_count": 44,
   "metadata": {
    "scrolled": true
   },
   "outputs": [
    {
     "name": "stdout",
     "output_type": "stream",
     "text": [
      "Train on 60000 samples\n",
      "Epoch 1/20\n",
      "60000/60000 [==============================] - 0s 7us/sample - loss: 0.0445 - accuracy: 0.7002\n",
      "Epoch 2/20\n",
      "60000/60000 [==============================] - 0s 7us/sample - loss: 0.0433 - accuracy: 0.7029\n",
      "Epoch 3/20\n",
      "60000/60000 [==============================] - 0s 7us/sample - loss: 0.0420 - accuracy: 0.7086\n",
      "Epoch 4/20\n",
      "60000/60000 [==============================] - 0s 8us/sample - loss: 0.0407 - accuracy: 0.7178\n",
      "Epoch 5/20\n",
      "60000/60000 [==============================] - 0s 7us/sample - loss: 0.0396 - accuracy: 0.7355\n",
      "Epoch 6/20\n",
      "60000/60000 [==============================] - 0s 7us/sample - loss: 0.0386 - accuracy: 0.7637\n",
      "Epoch 7/20\n",
      "60000/60000 [==============================] - 0s 8us/sample - loss: 0.0376 - accuracy: 0.7757\n",
      "Epoch 8/20\n",
      "60000/60000 [==============================] - 0s 7us/sample - loss: 0.0367 - accuracy: 0.7824\n",
      "Epoch 9/20\n",
      "60000/60000 [==============================] - 0s 7us/sample - loss: 0.0358 - accuracy: 0.7888\n",
      "Epoch 10/20\n",
      "60000/60000 [==============================] - 0s 7us/sample - loss: 0.0349 - accuracy: 0.7918\n",
      "Epoch 11/20\n",
      "60000/60000 [==============================] - 0s 7us/sample - loss: 0.0339 - accuracy: 0.7952\n",
      "Epoch 12/20\n",
      "60000/60000 [==============================] - 0s 7us/sample - loss: 0.0331 - accuracy: 0.7973\n",
      "Epoch 13/20\n",
      "60000/60000 [==============================] - 0s 7us/sample - loss: 0.0324 - accuracy: 0.8002\n",
      "Epoch 14/20\n",
      "60000/60000 [==============================] - 0s 7us/sample - loss: 0.0317 - accuracy: 0.8018\n",
      "Epoch 15/20\n",
      "60000/60000 [==============================] - 0s 7us/sample - loss: 0.0312 - accuracy: 0.8033\n",
      "Epoch 16/20\n",
      "60000/60000 [==============================] - 0s 7us/sample - loss: 0.0306 - accuracy: 0.8050\n",
      "Epoch 17/20\n",
      "60000/60000 [==============================] - 0s 7us/sample - loss: 0.0302 - accuracy: 0.8067\n",
      "Epoch 18/20\n",
      "60000/60000 [==============================] - 0s 7us/sample - loss: 0.0297 - accuracy: 0.8090\n",
      "Epoch 19/20\n",
      "60000/60000 [==============================] - 0s 8us/sample - loss: 0.0293 - accuracy: 0.8105\n",
      "Epoch 20/20\n",
      "60000/60000 [==============================] - 0s 7us/sample - loss: 0.0289 - accuracy: 0.8124\n"
     ]
    },
    {
     "data": {
      "text/plain": [
       "<tensorflow.python.keras.callbacks.History at 0x1e5a1e4c648>"
      ]
     },
     "execution_count": 44,
     "metadata": {},
     "output_type": "execute_result"
    }
   ],
   "source": [
    "model.fit(x_train, y_train, batch_size=500, epochs=20)"
   ]
  },
  {
   "cell_type": "code",
   "execution_count": 45,
   "metadata": {
    "scrolled": true
   },
   "outputs": [
    {
     "name": "stdout",
     "output_type": "stream",
     "text": [
      "Train on 60000 samples\n",
      "Epoch 1/20\n",
      "60000/60000 [==============================] - 0s 7us/sample - loss: 0.0286 - accuracy: 0.8144\n",
      "Epoch 2/20\n",
      "60000/60000 [==============================] - 0s 8us/sample - loss: 0.0283 - accuracy: 0.8143\n",
      "Epoch 3/20\n",
      "60000/60000 [==============================] - 0s 7us/sample - loss: 0.0280 - accuracy: 0.8155\n",
      "Epoch 4/20\n",
      "60000/60000 [==============================] - 0s 7us/sample - loss: 0.0276 - accuracy: 0.8176\n",
      "Epoch 5/20\n",
      "60000/60000 [==============================] - 0s 7us/sample - loss: 0.0274 - accuracy: 0.8190\n",
      "Epoch 6/20\n",
      "60000/60000 [==============================] - 0s 6us/sample - loss: 0.0272 - accuracy: 0.8201\n",
      "Epoch 7/20\n",
      "60000/60000 [==============================] - 0s 7us/sample - loss: 0.0268 - accuracy: 0.8217\n",
      "Epoch 8/20\n",
      "60000/60000 [==============================] - 0s 6us/sample - loss: 0.0265 - accuracy: 0.8238\n",
      "Epoch 9/20\n",
      "60000/60000 [==============================] - 0s 7us/sample - loss: 0.0264 - accuracy: 0.8240\n",
      "Epoch 10/20\n",
      "60000/60000 [==============================] - 0s 7us/sample - loss: 0.0261 - accuracy: 0.8257\n",
      "Epoch 11/20\n",
      "60000/60000 [==============================] - 0s 7us/sample - loss: 0.0260 - accuracy: 0.8252\n",
      "Epoch 12/20\n",
      "60000/60000 [==============================] - 0s 7us/sample - loss: 0.0257 - accuracy: 0.8279\n",
      "Epoch 13/20\n",
      "60000/60000 [==============================] - 0s 7us/sample - loss: 0.0256 - accuracy: 0.8285\n",
      "Epoch 14/20\n",
      "60000/60000 [==============================] - 0s 7us/sample - loss: 0.0253 - accuracy: 0.8305\n",
      "Epoch 15/20\n",
      "60000/60000 [==============================] - 0s 7us/sample - loss: 0.0250 - accuracy: 0.8321\n",
      "Epoch 16/20\n",
      "60000/60000 [==============================] - 0s 7us/sample - loss: 0.0249 - accuracy: 0.8318\n",
      "Epoch 17/20\n",
      "60000/60000 [==============================] - 0s 7us/sample - loss: 0.0247 - accuracy: 0.8340\n",
      "Epoch 18/20\n",
      "60000/60000 [==============================] - 0s 7us/sample - loss: 0.0246 - accuracy: 0.8351\n",
      "Epoch 19/20\n",
      "60000/60000 [==============================] - 0s 7us/sample - loss: 0.0245 - accuracy: 0.8358\n",
      "Epoch 20/20\n",
      "60000/60000 [==============================] - 0s 7us/sample - loss: 0.0242 - accuracy: 0.8368\n"
     ]
    },
    {
     "data": {
      "text/plain": [
       "<tensorflow.python.keras.callbacks.History at 0x1e5a1ec3d88>"
      ]
     },
     "execution_count": 45,
     "metadata": {},
     "output_type": "execute_result"
    }
   ],
   "source": [
    "model.fit(x_train, y_train, batch_size=500, epochs=20)"
   ]
  },
  {
   "cell_type": "code",
   "execution_count": 46,
   "metadata": {},
   "outputs": [
    {
     "name": "stdout",
     "output_type": "stream",
     "text": [
      "10000/10000 [==============================] - 0s 28us/sample - loss: 0.0266 - accuracy: 0.8193\n"
     ]
    }
   ],
   "source": [
    "score = model.evaluate(x_test, y_test) "
   ]
  },
  {
   "cell_type": "markdown",
   "metadata": {},
   "source": [
    "#### /更改\n",
    "    1.調整神經元數量\n",
    "    2.調小 lr\n",
    "    3.調大 batch_size\n",
    "    4.將第一層神經元的活化函數調整成sigmoid"
   ]
  },
  {
   "cell_type": "code",
   "execution_count": null,
   "metadata": {},
   "outputs": [],
   "source": []
  }
 ],
 "metadata": {
  "kernelspec": {
   "display_name": "Python 3",
   "language": "python",
   "name": "python3"
  },
  "language_info": {
   "codemirror_mode": {
    "name": "ipython",
    "version": 3
   },
   "file_extension": ".py",
   "mimetype": "text/x-python",
   "name": "python",
   "nbconvert_exporter": "python",
   "pygments_lexer": "ipython3",
   "version": "3.7.6"
  }
 },
 "nbformat": 4,
 "nbformat_minor": 4
}
