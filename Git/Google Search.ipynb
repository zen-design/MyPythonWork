{
 "cells": [
  {
   "cell_type": "markdown",
   "metadata": {},
   "source": [
    "### 實戰練習-下載Google搜尋結果"
   ]
  },
  {
   "cell_type": "markdown",
   "metadata": {},
   "source": [
    "    開發一個可以自動送出關鍵字到Google進行搜尋，並將結果抓回來的爬蟲程式"
   ]
  },
  {
   "cell_type": "markdown",
   "metadata": {},
   "source": [
    "    在觀查Google Search資訊後發現關鍵字是由參數'q'來傳遞，那我們就可以設定參數'q'來自動搜尋"
   ]
  },
  {
   "cell_type": "markdown",
   "metadata": {},
   "source": [
    "    接著再設計一個可以萃取資料的選擇器，就大功告成了!"
   ]
  },
  {
   "cell_type": "code",
   "execution_count": 7,
   "metadata": {},
   "outputs": [
    {
     "name": "stdout",
     "output_type": "stream",
     "text": [
      "請輸入關鍵字 : 滑雪\n",
      "標題 :\t第一次滑雪就上手！行前準備、滑雪器材、注意事項、滑雪場分級總整理\n",
      "網址 :\n",
      "https://www.tripresso.com/blog/2018/09/%25E6%25BB%2591%25E9%259B%25AA-%25E6%2596%25B0%25E6%2589%258B%25E5%25BF%2585%25E8%25AE%2580/&sa=U&ved=2ahUKEwjCv-6f193mAhXUxIsBHaWiA6UQFjAGegQICxAB&usg=AOvVaw3cGXXZUWv0YJFaB1UVL8xD\n",
      "標題 :\t滑雪初學者必看！充分享受日本滑雪樂趣的基本知識| 日本滑雪、玩雪 ...\n",
      "網址 :\n",
      "https://tw.wamazing.com/snow/articles/18&sa=U&ved=2ahUKEwjCv-6f193mAhXUxIsBHaWiA6UQFjAHegQIBRAB&usg=AOvVaw0D8LzPrtLUetKQgPzxSZsy\n",
      "標題 :\t滑雪新手必看！第一次滑雪常有的5個問題- 娜塔蝦的滑雪食旅手記\n",
      "網址 :\n",
      "https://tw.wamazing.com/snow/articles/18%23part-1481fb219511a6c0&sa=U&ved=2ahUKEwjCv-6f193mAhXUxIsBHaWiA6UQ0gIwB3oECAUQAw&usg=AOvVaw0Tx2eWpKYtD7qEE-r4QCTE\n",
      "標題 :\t日本滑雪旅遊行程-雄獅教練團-SNOWBOARD-雄獅旅遊\n",
      "網址 :\n",
      "https://tw.wamazing.com/snow/articles/18%23part-feda7bc39cbf86ff&sa=U&ved=2ahUKEwjCv-6f193mAhXUxIsBHaWiA6UQ0gIwB3oECAUQBA&usg=AOvVaw1Y9eqNR4gbo2YRmBAZeCws\n",
      "標題 :\t優質滑雪場與專業滑雪課程，享受中國、法國、日本北海道及阿爾卑斯 ...\n",
      "網址 :\n",
      "https://tw.wamazing.com/snow/articles/18%23part-fdc37a95fa0555cc&sa=U&ved=2ahUKEwjCv-6f193mAhXUxIsBHaWiA6UQ0gIwB3oECAUQBQ&usg=AOvVaw2OJpCbWthkTMuZJln1zxvK\n",
      "標題 :\t日本東北滑雪團，磐梯山溫泉飯店，專業教練中文教學- colatour 可樂旅遊\n",
      "網址 :\n",
      "https://natasha-traveler.tw/ski-beginner/&sa=U&ved=2ahUKEwjCv-6f193mAhXUxIsBHaWiA6UQFjAIegQIABAB&usg=AOvVaw3EeCYU68XcnHK4GjARn-kz\n",
      "標題 :\tez日本滑雪．世界級粉雪天堂| ezTravel易遊網\n",
      "網址 :\n",
      "https://www.liontravel.com/promotion/sports/ski/coach-sb.html&sa=U&ved=2ahUKEwjCv-6f193mAhXUxIsBHaWiA6UQFjAJegQIARAB&usg=AOvVaw19o_Xk-F0sQtOIZLSVrR8-\n",
      "標題 :\t成年人新手滑雪攻略- Henry Tsai - Medium\n",
      "網址 :\n",
      "https://www.clubmed.com.tw/l/snow-allinclusive&sa=U&ved=2ahUKEwjCv-6f193mAhXUxIsBHaWiA6UQFjAKegQIAhAB&usg=AOvVaw29tzqHLIsOx6HbMnBP_wDV\n",
      "標題 :\t15點滑雪準備懶人包，從地點挑選到滑雪訓練一應俱全\n",
      "網址 :\n",
      "https://www.colatour.com.tw/webDM/theme/ski/japan/bandaisan.html&sa=U&ved=2ahUKEwjCv-6f193mAhXUxIsBHaWiA6UQFjALegQIBxAB&usg=AOvVaw1UUkISLDkwEfQOCh0grOPh\n",
      "標題 :\t初學幾天才學得會？雪場何時開放？關於滑雪的10個Q&A - YouTube\n",
      "網址 :\n",
      "https://www.eztravel.com.tw/event/japan-ski-snowboard/index.html&sa=U&ved=2ahUKEwjCv-6f193mAhXUxIsBHaWiA6UQFjAMegQIChAB&usg=AOvVaw2rhWTdwgWvjJd5cZncePLT\n"
     ]
    }
   ],
   "source": [
    "import requests\n",
    "from bs4 import BeautifulSoup\n",
    "search = input('請輸入關鍵字 : ')\n",
    "google_url = 'https://www.google.com.tw/search'\n",
    "my_params = {'q':search}\n",
    "\n",
    "r = requests.get(google_url, params = my_params)\n",
    "\n",
    "if r.status_code == requests.codes.ok:\n",
    "    soup = BeautifulSoup(r.text, 'html.parser')\n",
    "    items_t = soup.select('div.vvjwJb')\n",
    "    items_h = soup.select('div.kCrYT a[href^=\"/url\"]')\n",
    "    for i, j in zip(items_t, items_h):\n",
    "        print(\"標題 :\\t\" + i.text)\n",
    "        modify = j.get('href')\n",
    "        print(\"網址 :\\n\" + modify.strip('/url?q='))"
   ]
  },
  {
   "cell_type": "code",
   "execution_count": null,
   "metadata": {},
   "outputs": [],
   "source": []
  }
 ],
 "metadata": {
  "kernelspec": {
   "display_name": "Python 3",
   "language": "python",
   "name": "python3"
  },
  "language_info": {
   "codemirror_mode": {
    "name": "ipython",
    "version": 3
   },
   "file_extension": ".py",
   "mimetype": "text/x-python",
   "name": "python",
   "nbconvert_exporter": "python",
   "pygments_lexer": "ipython3",
   "version": "3.7.3"
  }
 },
 "nbformat": 4,
 "nbformat_minor": 2
}
