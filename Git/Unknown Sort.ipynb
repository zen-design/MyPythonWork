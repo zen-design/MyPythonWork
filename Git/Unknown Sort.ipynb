{
 "cells": [
  {
   "cell_type": "code",
   "execution_count": 12,
   "metadata": {},
   "outputs": [
    {
     "name": "stdout",
     "output_type": "stream",
     "text": [
      "Please enter the data with a space:5 10 11 19 4\n",
      "4\n",
      "[4, 5, 10, 11, 19]\n"
     ]
    }
   ],
   "source": [
    "import time\n",
    "data_str = input(\"Please enter the data with a space:\")\n",
    "start_time = time.time()\n",
    "data_list_str = data_str.split()\n",
    "data_list_num = []\n",
    "TF = True\n",
    "Sort = []\n",
    "\n",
    "for i in data_list_str:\n",
    "    i = int(i)\n",
    "    data_list_num.append(i)\n",
    "print(min(data_list_num))\n",
    "    \n",
    "while TF :\n",
    "    if len(data_list_num) != 0:\n",
    "        m = min(data_list_num)\n",
    "        Sort.append(m)\n",
    "        data_list_num.remove(m)\n",
    "        TF = True\n",
    "    else:\n",
    "        TF = False\n",
    "print(Sort)"
   ]
  },
  {
   "cell_type": "code",
   "execution_count": null,
   "metadata": {},
   "outputs": [],
   "source": []
  }
 ],
 "metadata": {
  "kernelspec": {
   "display_name": "Python 3",
   "language": "python",
   "name": "python3"
  },
  "language_info": {
   "codemirror_mode": {
    "name": "ipython",
    "version": 3
   },
   "file_extension": ".py",
   "mimetype": "text/x-python",
   "name": "python",
   "nbconvert_exporter": "python",
   "pygments_lexer": "ipython3",
   "version": "3.7.3"
  }
 },
 "nbformat": 4,
 "nbformat_minor": 2
}
